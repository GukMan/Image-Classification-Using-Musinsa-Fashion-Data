{
 "cells": [
  {
   "cell_type": "code",
   "execution_count": 1,
   "metadata": {},
   "outputs": [],
   "source": [
    "import requests\n",
    "import json\n",
    "from bs4 import BeautifulSoup\n",
    "from tqdm import tqdm\n",
    "import time"
   ]
  },
  {
   "cell_type": "markdown",
   "metadata": {},
   "source": [
    "# 카테고리 별로 크롤링"
   ]
  },
  {
   "cell_type": "markdown",
   "metadata": {},
   "source": [
    "## sports 카테고리 15페이지까지 존재"
   ]
  },
  {
   "cell_type": "code",
   "execution_count": 52,
   "metadata": {},
   "outputs": [
    {
     "name": "stdout",
     "output_type": "stream",
     "text": [
      "==================== sports ====================\n"
     ]
    },
    {
     "name": "stderr",
     "output_type": "stream",
     "text": [
      "9it [00:00, 25.49it/s]"
     ]
    },
    {
     "name": "stdout",
     "output_type": "stream",
     "text": [
      "sports / 농구하러 갈래? / 1 / https://image.msscdn.net/images/style/list/l_3_2022072615461800000030192.jpg\n"
     ]
    },
    {
     "name": "stderr",
     "output_type": "stream",
     "text": [
      "24it [00:00, 29.81it/s]"
     ]
    },
    {
     "name": "stdout",
     "output_type": "stream",
     "text": [
      "sports / 러닝 어때? / 1 / https://image.msscdn.net/images/style/list/l_3_2022062408384300000081881.jpg\n"
     ]
    },
    {
     "name": "stderr",
     "output_type": "stream",
     "text": [
      "60it [00:01, 31.48it/s]\n",
      "60it [00:01, 30.71it/s]\n",
      "60it [00:02, 29.05it/s]\n",
      "60it [00:02, 26.75it/s]\n",
      "21it [00:00, 26.44it/s]"
     ]
    },
    {
     "name": "stdout",
     "output_type": "stream",
     "text": [
      "sports / 한 골 더? / 5 / https://image.msscdn.net/images/style/list/l_3_2020091109433300000092417.jpg\n"
     ]
    },
    {
     "name": "stderr",
     "output_type": "stream",
     "text": [
      "41it [00:01, 24.10it/s]"
     ]
    },
    {
     "name": "stdout",
     "output_type": "stream",
     "text": [
      "sports / 멋진거 인정? / 5 / https://image.msscdn.net/images/style/list/l_3_2020090711243600000026595.jpg\n"
     ]
    },
    {
     "name": "stderr",
     "output_type": "stream",
     "text": [
      "60it [00:02, 26.60it/s]\n",
      "25it [00:01, 23.94it/s]"
     ]
    },
    {
     "name": "stdout",
     "output_type": "stream",
     "text": [
      "sports / 느낌 있잖아? / 6 / https://image.msscdn.net/images/style/list/l_3_2020071415040200000046454.jpg\n",
      "sports / 진짜를 원해? / 6 / https://image.msscdn.net/images/style/list/l_3_2020071317401700000088503.jpg\n"
     ]
    },
    {
     "name": "stderr",
     "output_type": "stream",
     "text": [
      "45it [00:01, 27.70it/s]"
     ]
    },
    {
     "name": "stdout",
     "output_type": "stream",
     "text": [
      "sports / 편한게 좋지? / 6 / https://image.msscdn.net/images/style/list/l_3_2020060416381200000045419.jpg\n"
     ]
    },
    {
     "name": "stderr",
     "output_type": "stream",
     "text": [
      "60it [00:02, 26.29it/s]\n",
      "57it [00:02, 23.05it/s]"
     ]
    },
    {
     "name": "stdout",
     "output_type": "stream",
     "text": [
      "sports / 스포츠 좋아해? / 7 / https://image.msscdn.net/images/style/list/l_3_2020012015205900000081680.jpg\n"
     ]
    },
    {
     "name": "stderr",
     "output_type": "stream",
     "text": [
      "60it [00:02, 22.47it/s]\n",
      "15it [00:00, 23.25it/s]"
     ]
    },
    {
     "name": "stdout",
     "output_type": "stream",
     "text": [
      "sports / 편해 보이지? / 8 / https://image.msscdn.net/images/style/list/l_3_2019120418143600000069698.jpg\n"
     ]
    },
    {
     "name": "stderr",
     "output_type": "stream",
     "text": [
      "60it [00:02, 26.31it/s]\n",
      "34it [00:01, 28.67it/s]"
     ]
    },
    {
     "name": "stdout",
     "output_type": "stream",
     "text": [
      "sports / 달려 볼까? / 9 / https://image.msscdn.net/images/style/list/l_3_2019071216393800000082470.jpg\n"
     ]
    },
    {
     "name": "stderr",
     "output_type": "stream",
     "text": [
      "60it [00:02, 28.90it/s]\n",
      "56it [00:02, 26.77it/s]"
     ]
    },
    {
     "name": "stdout",
     "output_type": "stream",
     "text": [
      "sports / 농구 한판? / 10 / https://image.msscdn.net/images/style/list/l_3_2019040909221000000039167.jpg\n",
      "sports / 나쁘지 않잖아? / 10 / https://image.msscdn.net/images/style/list/l_3_2019040211513600000065881.jpg\n"
     ]
    },
    {
     "name": "stderr",
     "output_type": "stream",
     "text": [
      "60it [00:02, 27.59it/s]\n",
      "56it [00:02, 27.76it/s]"
     ]
    },
    {
     "name": "stdout",
     "output_type": "stream",
     "text": [
      "sports / 시구남신? / 11 / https://image.msscdn.net/images/style/list/l_3_2019013116072700000028995.jpg\n"
     ]
    },
    {
     "name": "stderr",
     "output_type": "stream",
     "text": [
      "60it [00:02, 27.73it/s]\n"
     ]
    },
    {
     "name": "stdout",
     "output_type": "stream",
     "text": [
      "sports / 뭐 이리 멋져? / 11 / https://image.msscdn.net/images/style/list/l_3_2019011715593600000005886.jpg\n"
     ]
    },
    {
     "name": "stderr",
     "output_type": "stream",
     "text": [
      "45it [00:01, 26.29it/s]"
     ]
    },
    {
     "name": "stdout",
     "output_type": "stream",
     "text": [
      "sports / 아드리안 호? / 12 / https://image.msscdn.net/images/style/list/l_3_2018111215244100000001082.jpg\n"
     ]
    },
    {
     "name": "stderr",
     "output_type": "stream",
     "text": [
      "60it [00:02, 26.82it/s]\n",
      "60it [00:02, 27.31it/s]\n",
      "60it [00:02, 27.50it/s]\n",
      "53it [00:02, 25.01it/s]\n"
     ]
    }
   ],
   "source": [
    "cate = [ \"sports\" ] \n",
    "for c in cate:\n",
    "    \n",
    "    pg_num = 1\n",
    "    print(\"=\"*20 , c , \"=\"*20)\n",
    "    while True:\n",
    "\n",
    "        url = \"https://www.musinsa.com/app/styles/lists?use_yn_360=&style_type={}&brand=&model=&tag_no=&max_rt=&min_rt=&display_cnt=60&list_kind=big&sort=date&page={}\".format(c,pg_num)\n",
    "\n",
    "        req = requests.get(url, headers=headers)\n",
    "        time.sleep(0.75)\n",
    "        sp = BeautifulSoup(req.content, \"lxml\")\n",
    "        \n",
    "        tags = sp.select(\"li.style-list-item div.style-list-item__thumbnail a.style-list-item__link\")\n",
    "        img_tags = sp.select(\"div.style-list-thumbnail img.style-list-thumbnail__img\")\n",
    "\n",
    "        imgs_urls = []\n",
    "\n",
    "        for tag,img_tag in tqdm(zip(tags,img_tags)):\n",
    "            names = img_tag[\"alt\"]\n",
    "            img_tag2 = \"https:\" + img_tag[\"src\"]\n",
    "            req_src = requests.get(img_tag2)\n",
    "            imgs = req_src.content\n",
    "\n",
    "            try:\n",
    "\n",
    "                with open(\"사진/스포츠/{}_{}_{}.jpg\".format(c,pg_num,names), \"wb\") as f:\n",
    "                    f.write(imgs)\n",
    "            except:\n",
    "\n",
    "                print(c, \"/\" ,names, \"/\", pg_num, \"/\", req_src.url)\n",
    "                continue\n",
    "            \n",
    "        pg_num += 1\n",
    "        \n",
    "\n",
    "        if pg_num == 16:\n",
    "            break\n",
    "    "
   ]
  },
  {
   "cell_type": "markdown",
   "metadata": {},
   "source": [
    "## sports/golf 카테고리 8페이지까지 존재"
   ]
  },
  {
   "cell_type": "code",
   "execution_count": 53,
   "metadata": {},
   "outputs": [
    {
     "name": "stdout",
     "output_type": "stream",
     "text": [
      "==================== golf ====================\n"
     ]
    },
    {
     "name": "stderr",
     "output_type": "stream",
     "text": [
      "60it [00:02, 26.88it/s]\n",
      "60it [00:02, 27.03it/s]\n",
      "60it [00:02, 27.12it/s]\n",
      "60it [00:02, 28.04it/s]\n",
      "60it [00:02, 26.07it/s]\n",
      "60it [00:02, 27.01it/s]\n",
      "60it [00:02, 27.34it/s]\n",
      "20it [00:00, 23.50it/s]\n"
     ]
    }
   ],
   "source": [
    "cate = [ \"golf\" ] \n",
    "for c in cate:\n",
    "    \n",
    "    pg_num = 1\n",
    "    print(\"=\"*20 , c , \"=\"*20)\n",
    "    while True:\n",
    "\n",
    "        url = \"https://www.musinsa.com/app/styles/lists?use_yn_360=&style_type={}&brand=&model=&tag_no=&max_rt=&min_rt=&display_cnt=60&list_kind=big&sort=date&page={}\".format(c,pg_num)\n",
    "\n",
    "        req = requests.get(url, headers=headers)\n",
    "        time.sleep(0.75)\n",
    "        sp = BeautifulSoup(req.content, \"lxml\")\n",
    "        \n",
    "        tags = sp.select(\"li.style-list-item div.style-list-item__thumbnail a.style-list-item__link\")\n",
    "        img_tags = sp.select(\"div.style-list-thumbnail img.style-list-thumbnail__img\")\n",
    "\n",
    "        imgs_urls = []\n",
    "\n",
    "        for tag,img_tag in tqdm(zip(tags,img_tags)):\n",
    "            names = img_tag[\"alt\"]\n",
    "            img_tag2 = \"https:\" + img_tag[\"src\"]\n",
    "            req_src = requests.get(img_tag2)\n",
    "            imgs = req_src.content\n",
    "\n",
    "            try:\n",
    "\n",
    "                with open(\"사진/스포츠/{}_{}_{}.jpg\".format(c,pg_num,names), \"wb\") as f:\n",
    "                        f.write(imgs)\n",
    "            except:\n",
    "\n",
    "                print(c, \"/\" ,names, \"/\", pg_num, \"/\", req_src.url)\n",
    "                continue\n",
    "            \n",
    "        pg_num += 1\n",
    "        \n",
    "\n",
    "        if pg_num == 9:\n",
    "            break"
   ]
  },
  {
   "cell_type": "markdown",
   "metadata": {},
   "source": [
    "## Dandy 카테고리 33페이지까지 존재"
   ]
  },
  {
   "cell_type": "code",
   "execution_count": 49,
   "metadata": {},
   "outputs": [
    {
     "name": "stdout",
     "output_type": "stream",
     "text": [
      "==================== dandy ====================\n"
     ]
    },
    {
     "name": "stderr",
     "output_type": "stream",
     "text": [
      "60it [00:02, 23.76it/s]\n",
      "31it [00:01, 24.61it/s]"
     ]
    },
    {
     "name": "stdout",
     "output_type": "stream",
     "text": [
      "dandy / 남친 룩으로 어때? / 2 / https://image.msscdn.net/images/style/list/l_3_2022062214184600000046790.jpg\n"
     ]
    },
    {
     "name": "stderr",
     "output_type": "stream",
     "text": [
      "44it [00:01, 25.15it/s]"
     ]
    },
    {
     "name": "stdout",
     "output_type": "stream",
     "text": [
      "dandy / 이런 스타일 어때? / 2 / https://image.msscdn.net/images/style/list/l_3_2022061416212600000089969.jpg\n"
     ]
    },
    {
     "name": "stderr",
     "output_type": "stream",
     "text": [
      "60it [00:02, 26.95it/s]\n",
      "60it [00:01, 31.55it/s]\n",
      "60it [00:01, 33.49it/s]\n"
     ]
    },
    {
     "name": "stdout",
     "output_type": "stream",
     "text": [
      "dandy / 데이트 갈래? / 4 / https://image.msscdn.net/images/style/list/l_3_2022033114281700000061073.jpg\n"
     ]
    },
    {
     "name": "stderr",
     "output_type": "stream",
     "text": [
      "60it [00:01, 32.93it/s]\n",
      "60it [00:02, 29.15it/s]\n",
      "60it [00:02, 27.78it/s]\n",
      "60it [00:02, 28.58it/s]\n",
      "60it [00:02, 28.68it/s]\n",
      "60it [00:02, 27.19it/s]\n",
      "60it [00:02, 26.49it/s]\n",
      "60it [00:02, 28.56it/s]\n",
      "60it [00:02, 27.34it/s]\n",
      "60it [00:02, 26.48it/s]\n",
      "60it [00:02, 25.72it/s]\n",
      "60it [00:02, 25.03it/s]\n",
      "60it [00:02, 24.48it/s]\n",
      "60it [00:02, 25.53it/s]\n",
      "60it [00:02, 25.82it/s]\n",
      "53it [00:02, 26.66it/s]"
     ]
    },
    {
     "name": "stdout",
     "output_type": "stream",
     "text": [
      "dandy / 데이트할래? / 20 / https://image.msscdn.net/images/style/list/l_3_2020081116054200000077577.jpg\n"
     ]
    },
    {
     "name": "stderr",
     "output_type": "stream",
     "text": [
      "60it [00:02, 25.36it/s]\n",
      "22it [00:00, 26.60it/s]"
     ]
    },
    {
     "name": "stdout",
     "output_type": "stream",
     "text": [
      "dandy / 댄디하지? / 21 / https://image.msscdn.net/images/style/list/l_3_2020070317162300000015407.jpg\n"
     ]
    },
    {
     "name": "stderr",
     "output_type": "stream",
     "text": [
      "28it [00:01, 23.20it/s]"
     ]
    },
    {
     "name": "stdout",
     "output_type": "stream",
     "text": [
      "dandy / 심플하지? / 21 / https://image.msscdn.net/images/style/list/l_3_2020070116493000000015654.jpg\n"
     ]
    },
    {
     "name": "stderr",
     "output_type": "stream",
     "text": [
      "60it [00:02, 25.32it/s]\n",
      "39it [00:02, 18.41it/s]"
     ]
    },
    {
     "name": "stdout",
     "output_type": "stream",
     "text": [
      "dandy / 꽤 멋있잖아? / 22 / https://image.msscdn.net/images/style/list/l_3_2020041010434100000081937.jpg\n"
     ]
    },
    {
     "name": "stderr",
     "output_type": "stream",
     "text": [
      "60it [00:03, 18.90it/s]\n",
      "60it [00:03, 16.71it/s]\n",
      "48it [00:02, 17.36it/s]"
     ]
    },
    {
     "name": "stdout",
     "output_type": "stream",
     "text": [
      "dandy / 좀 멋있지? / 24 / https://image.msscdn.net/images/style/list/l_3_2019120417371300000052202.jpg\n"
     ]
    },
    {
     "name": "stderr",
     "output_type": "stream",
     "text": [
      "60it [00:03, 16.65it/s]\n",
      "60it [00:02, 20.28it/s]\n",
      "12it [00:00, 22.32it/s]"
     ]
    },
    {
     "name": "stdout",
     "output_type": "stream",
     "text": [
      "dandy / 괜찮은데? / 26 / https://image.msscdn.net/images/style/list/l_3_2019070818153200000028293.jpg\n"
     ]
    },
    {
     "name": "stderr",
     "output_type": "stream",
     "text": [
      "60it [00:02, 20.53it/s]\n",
      "60it [00:03, 16.47it/s]\n",
      "60it [00:03, 16.79it/s]\n",
      "60it [00:03, 15.65it/s]\n",
      "60it [00:04, 13.96it/s]\n",
      "60it [00:03, 19.23it/s]\n",
      "60it [00:03, 15.90it/s]\n",
      "11it [00:00, 17.90it/s]\n"
     ]
    }
   ],
   "source": [
    "cate = [ \"dandy\" ] \n",
    "for c in cate:\n",
    "    \n",
    "    pg_num = 1\n",
    "    print(\"=\"*20 , c , \"=\"*20)\n",
    "    while True:\n",
    "\n",
    "        url = \"https://www.musinsa.com/app/styles/lists?use_yn_360=&style_type={}&brand=&model=&tag_no=&max_rt=&min_rt=&display_cnt=60&list_kind=big&sort=date&page={}\".format(c,pg_num)\n",
    "\n",
    "        req = requests.get(url, headers=headers)\n",
    "        time.sleep(0.75)\n",
    "        sp = BeautifulSoup(req.content, \"lxml\")\n",
    "        \n",
    "        tags = sp.select(\"li.style-list-item div.style-list-item__thumbnail a.style-list-item__link\")\n",
    "        img_tags = sp.select(\"div.style-list-thumbnail img.style-list-thumbnail__img\")\n",
    "\n",
    "        imgs_urls = []\n",
    "\n",
    "        for tag,img_tag in tqdm(zip(tags,img_tags)):\n",
    "            names = img_tag[\"alt\"]\n",
    "            img_tag2 = \"https:\" + img_tag[\"src\"]\n",
    "            req_src = requests.get(img_tag2)\n",
    "            imgs = req_src.content\n",
    "\n",
    "            try:\n",
    "\n",
    "                with open(\"사진/댄디/{}_{}_{}.jpg\".format(c,pg_num,names), \"wb\") as f:\n",
    "                        f.write(imgs)\n",
    "            except:\n",
    "\n",
    "                print(c, \"/\" ,names, \"/\", pg_num, \"/\", req_src.url)\n",
    "                continue\n",
    "            \n",
    "        pg_num += 1\n",
    "        \n",
    "\n",
    "        if pg_num == 34:\n",
    "            break"
   ]
  },
  {
   "cell_type": "markdown",
   "metadata": {},
   "source": [
    "## Dandy/formal 카테고리 33페이지까지 존재"
   ]
  },
  {
   "cell_type": "code",
   "execution_count": 50,
   "metadata": {},
   "outputs": [
    {
     "name": "stdout",
     "output_type": "stream",
     "text": [
      "==================== formal ====================\n"
     ]
    },
    {
     "name": "stderr",
     "output_type": "stream",
     "text": [
      "60it [00:02, 24.69it/s]\n",
      "60it [00:02, 24.50it/s]\n",
      "60it [00:02, 25.19it/s]\n",
      "60it [00:02, 22.76it/s]\n",
      "60it [00:02, 20.85it/s]\n",
      "60it [00:02, 22.12it/s]\n",
      "60it [00:02, 24.31it/s]\n",
      "60it [00:02, 23.55it/s]\n",
      "60it [00:02, 24.79it/s]\n",
      "60it [00:02, 25.40it/s]\n",
      "60it [00:02, 25.27it/s]\n",
      "9it [00:00, 26.04it/s]"
     ]
    },
    {
     "name": "stdout",
     "output_type": "stream",
     "text": [
      "formal / 출근 룩 어때? / 12 / https://image.msscdn.net/images/style/list/l_3_2020081815535100000003614.jpg\n"
     ]
    },
    {
     "name": "stderr",
     "output_type": "stream",
     "text": [
      "60it [00:02, 24.75it/s]\n",
      "15it [00:00, 25.04it/s]"
     ]
    },
    {
     "name": "stdout",
     "output_type": "stream",
     "text": [
      "formal / 눈부신 데일리 룩\t포멀 / 13 / https://image.msscdn.net/images/style/list/l_3_2020061914183200000085350.jpg\n"
     ]
    },
    {
     "name": "stderr",
     "output_type": "stream",
     "text": [
      "60it [00:02, 25.22it/s]\n",
      "57it [00:02, 20.93it/s]"
     ]
    },
    {
     "name": "stdout",
     "output_type": "stream",
     "text": [
      "formal / 데일리 룩 쉽지? / 14 / https://image.msscdn.net/images/style/list/l_3_2020042016514300000042847.jpg\n"
     ]
    },
    {
     "name": "stderr",
     "output_type": "stream",
     "text": [
      "60it [00:02, 23.17it/s]\n",
      "60it [00:02, 20.84it/s]\n",
      "60it [00:02, 20.94it/s]\n",
      "60it [00:03, 19.95it/s]\n",
      "60it [00:03, 17.47it/s]\n",
      "60it [00:03, 16.63it/s]\n",
      "33it [00:02, 15.36it/s]"
     ]
    },
    {
     "name": "stdout",
     "output_type": "stream",
     "text": [
      "formal / 레이어드 어때? / 20 / https://image.msscdn.net/images/style/list/l_3_2019121709573100000093900.jpg\n"
     ]
    },
    {
     "name": "stderr",
     "output_type": "stream",
     "text": [
      "60it [00:04, 14.55it/s]\n",
      "24it [00:01, 14.37it/s]"
     ]
    },
    {
     "name": "stdout",
     "output_type": "stream",
     "text": [
      "formal / 셋업 좋아해? / 21 / https://image.msscdn.net/images/style/list/l_3_2019120313380200000079432.jpg\n"
     ]
    },
    {
     "name": "stderr",
     "output_type": "stream",
     "text": [
      "60it [00:03, 15.79it/s]\n",
      "28it [00:01, 15.59it/s]"
     ]
    },
    {
     "name": "stdout",
     "output_type": "stream",
     "text": [
      "formal / 시크하잖아? / 22 / https://image.msscdn.net/images/style/list/l_3_2019103109370800000065660.jpg\n"
     ]
    },
    {
     "name": "stderr",
     "output_type": "stream",
     "text": [
      "56it [00:03, 13.90it/s]"
     ]
    },
    {
     "name": "stdout",
     "output_type": "stream",
     "text": [
      "formal / 분위기 챙겼어? / 22 / https://image.msscdn.net/images/style/list/l_3_2019102213371400000044702.jpg\n"
     ]
    },
    {
     "name": "stderr",
     "output_type": "stream",
     "text": [
      "60it [00:03, 16.07it/s]\n",
      "38it [00:02, 16.44it/s]"
     ]
    },
    {
     "name": "stdout",
     "output_type": "stream",
     "text": [
      "formal / 분위기 어때? / 23 / https://image.msscdn.net/images/style/list/l_3_2019092310530600000064696.jpg\n"
     ]
    },
    {
     "name": "stderr",
     "output_type": "stream",
     "text": [
      "60it [00:03, 17.99it/s]\n",
      "60it [00:03, 19.36it/s]\n",
      "60it [00:02, 21.02it/s]\n",
      "60it [00:02, 20.40it/s]\n",
      "8it [00:00, 17.34it/s]"
     ]
    },
    {
     "name": "stdout",
     "output_type": "stream",
     "text": [
      "formal / 괜찮잖아? / 27 / https://image.msscdn.net/images/style/list/l_3_2019040110305000000025416.jpg\n"
     ]
    },
    {
     "name": "stderr",
     "output_type": "stream",
     "text": [
      "60it [00:03, 17.75it/s]\n",
      "52it [00:02, 20.42it/s]"
     ]
    },
    {
     "name": "stdout",
     "output_type": "stream",
     "text": [
      "formal / 어린 왕자? / 28 / https://image.msscdn.net/images/style/list/l_3_2019021216070700000012818.jpg\n"
     ]
    },
    {
     "name": "stderr",
     "output_type": "stream",
     "text": [
      "60it [00:03, 18.86it/s]\n",
      "60it [00:02, 21.18it/s]\n",
      "60it [00:05, 10.96it/s]\n",
      "60it [00:05, 11.91it/s]\n",
      "60it [00:05, 11.55it/s]\n",
      "60it [00:04, 12.06it/s]\n"
     ]
    }
   ],
   "source": [
    "cate = [ \"formal\" ] \n",
    "for c in cate:\n",
    "    \n",
    "    pg_num = 1\n",
    "    print(\"=\"*20 , c , \"=\"*20)\n",
    "    while True:\n",
    "\n",
    "        url = \"https://www.musinsa.com/app/styles/lists?use_yn_360=&style_type={}&brand=&model=&tag_no=&max_rt=&min_rt=&display_cnt=60&list_kind=big&sort=date&page={}\".format(c,pg_num)\n",
    "\n",
    "        req = requests.get(url, headers=headers)\n",
    "        time.sleep(0.75)\n",
    "        sp = BeautifulSoup(req.content, \"lxml\")\n",
    "        \n",
    "        tags = sp.select(\"li.style-list-item div.style-list-item__thumbnail a.style-list-item__link\")\n",
    "        img_tags = sp.select(\"div.style-list-thumbnail img.style-list-thumbnail__img\")\n",
    "\n",
    "        imgs_urls = []\n",
    "\n",
    "        for tag,img_tag in tqdm(zip(tags,img_tags)):\n",
    "            names = img_tag[\"alt\"]\n",
    "            img_tag2 = \"https:\" + img_tag[\"src\"]\n",
    "            req_src = requests.get(img_tag2)\n",
    "            imgs = req_src.content\n",
    "\n",
    "\n",
    "            try:\n",
    "\n",
    "                with open(\"사진/댄디/{}_{}_{}.jpg\".format(c,pg_num,names), \"wb\") as f:\n",
    "                        f.write(imgs)\n",
    "            except:\n",
    "\n",
    "                print(c, \"/\" ,names, \"/\", pg_num, \"/\", req_src.url)\n",
    "                continue\n",
    "            \n",
    "        pg_num += 1\n",
    "        \n",
    "\n",
    "        if pg_num == 34:\n",
    "            break"
   ]
  },
  {
   "cell_type": "markdown",
   "metadata": {},
   "source": [
    "## casual 카테고리 4000개까지(4000/60= 약 70페이지)"
   ]
  },
  {
   "cell_type": "code",
   "execution_count": 51,
   "metadata": {},
   "outputs": [
    {
     "name": "stdout",
     "output_type": "stream",
     "text": [
      "==================== casual ====================\n"
     ]
    },
    {
     "name": "stderr",
     "output_type": "stream",
     "text": [
      "60it [00:02, 23.32it/s]\n",
      "60it [00:02, 24.89it/s]\n",
      "60it [00:02, 24.64it/s]\n",
      "60it [00:02, 24.60it/s]\n",
      "60it [00:02, 23.77it/s]\n",
      "60it [00:02, 24.01it/s]\n",
      "60it [00:02, 23.74it/s]\n"
     ]
    },
    {
     "name": "stdout",
     "output_type": "stream",
     "text": [
      "casual / 캠핑 룩 어때? / 7 / https://image.msscdn.net/images/style/list/l_3_2022053118203000000010850.jpg\n"
     ]
    },
    {
     "name": "stderr",
     "output_type": "stream",
     "text": [
      "60it [00:01, 30.38it/s]\n",
      "60it [00:01, 31.65it/s]\n",
      "60it [00:03, 15.14it/s]\n",
      "60it [00:01, 30.63it/s]\n",
      "60it [00:02, 29.73it/s]\n",
      "60it [00:01, 30.31it/s]\n",
      "60it [00:01, 31.49it/s]\n",
      "60it [00:01, 31.84it/s]\n",
      "60it [00:01, 31.56it/s]\n",
      "60it [00:01, 30.85it/s]\n",
      "60it [00:01, 31.14it/s]\n",
      "60it [00:01, 30.52it/s]\n",
      "60it [00:02, 24.23it/s]\n",
      "60it [00:02, 21.29it/s]\n",
      "60it [00:02, 22.09it/s]\n",
      "60it [00:03, 18.88it/s]\n",
      "60it [00:03, 15.33it/s]\n",
      "60it [00:03, 15.15it/s]\n",
      "60it [00:03, 16.94it/s]\n",
      "60it [00:04, 13.50it/s]\n",
      "60it [00:03, 17.30it/s]\n",
      "60it [00:03, 18.52it/s]\n",
      "60it [00:03, 19.83it/s]\n",
      "60it [00:02, 27.44it/s]\n",
      "46it [00:01, 28.75it/s]"
     ]
    },
    {
     "name": "stdout",
     "output_type": "stream",
     "text": [
      "casual / 캠퍼스 룩 어때? / 32 / https://image.msscdn.net/images/style/list/l_3_2021090915081000000000166.jpg\n"
     ]
    },
    {
     "name": "stderr",
     "output_type": "stream",
     "text": [
      "60it [00:02, 27.39it/s]\n",
      "60it [00:02, 26.25it/s]\n",
      "60it [00:02, 26.97it/s]\n",
      "26it [00:00, 28.58it/s]"
     ]
    },
    {
     "name": "stdout",
     "output_type": "stream",
     "text": [
      "casual / 꾸안꾸 어때? / 35 / https://image.msscdn.net/images/style/list/l_3_2021081912541500000056925.jpg\n"
     ]
    },
    {
     "name": "stderr",
     "output_type": "stream",
     "text": [
      "60it [00:02, 27.71it/s]\n",
      "60it [00:02, 27.80it/s]\n",
      "60it [00:02, 26.66it/s]\n",
      "60it [00:02, 25.36it/s]\n",
      "15it [00:00, 26.23it/s]"
     ]
    },
    {
     "name": "stdout",
     "output_type": "stream",
     "text": [
      "casual / 랜선 여행 어때? / 39 / https://image.msscdn.net/images/style/list/l_3_2021072115573000000003543.jpg\n"
     ]
    },
    {
     "name": "stderr",
     "output_type": "stream",
     "text": [
      "60it [00:02, 23.49it/s]\n",
      "60it [00:02, 26.01it/s]\n",
      "60it [00:02, 28.28it/s]\n",
      "60it [00:02, 27.08it/s]\n",
      "60it [00:02, 28.01it/s]\n",
      "28it [00:01, 30.35it/s]"
     ]
    },
    {
     "name": "stdout",
     "output_type": "stream",
     "text": [
      "casual / 너무 귀엽지? / 44 / https://image.msscdn.net/images/style/list/l_3_2021060215213900000091944.jpg\n"
     ]
    },
    {
     "name": "stderr",
     "output_type": "stream",
     "text": [
      "60it [00:02, 29.45it/s]\n",
      "60it [00:02, 29.91it/s]\n",
      "14it [00:00, 31.16it/s]"
     ]
    },
    {
     "name": "stdout",
     "output_type": "stream",
     "text": [
      "casual / 매일 입게 될걸? / 46 / https://image.msscdn.net/images/style/list/l_3_2021051415025200000050820.jpg\n"
     ]
    },
    {
     "name": "stderr",
     "output_type": "stream",
     "text": [
      "60it [00:02, 29.92it/s]\n",
      "60it [00:02, 25.49it/s]\n",
      "60it [00:02, 25.85it/s]\n",
      "22it [00:00, 29.88it/s]"
     ]
    },
    {
     "name": "stdout",
     "output_type": "stream",
     "text": [
      "casual / 멋 좀 부려볼까? / 49 / https://image.msscdn.net/images/style/list/l_3_2021033016131300000050644.jpg\n"
     ]
    },
    {
     "name": "stderr",
     "output_type": "stream",
     "text": [
      "60it [00:01, 30.57it/s]\n",
      "60it [00:01, 30.46it/s]\n",
      "60it [00:02, 25.55it/s]\n",
      "60it [00:02, 27.61it/s]\n",
      "60it [00:02, 25.83it/s]\n",
      "60it [00:02, 26.07it/s]\n",
      "60it [00:02, 29.20it/s]\n",
      "60it [00:02, 25.05it/s]\n",
      "60it [00:02, 25.03it/s]\n",
      "60it [00:02, 24.66it/s]\n",
      "60it [00:02, 25.87it/s]\n",
      "60it [00:02, 24.89it/s]\n",
      "60it [00:02, 24.33it/s]\n",
      "12it [00:00, 30.75it/s]"
     ]
    },
    {
     "name": "stdout",
     "output_type": "stream",
     "text": [
      "casual / 이 조합 어때? / 62 / https://image.msscdn.net/images/style/list/l_3_2020092909174900000068255.jpg\n"
     ]
    },
    {
     "name": "stderr",
     "output_type": "stream",
     "text": [
      "60it [00:02, 23.65it/s]\n",
      "60it [00:02, 24.41it/s]\n",
      "60it [00:02, 24.08it/s]\n"
     ]
    },
    {
     "name": "stdout",
     "output_type": "stream",
     "text": [
      "casual / 같이 떠날래? / 64 / https://image.msscdn.net/images/style/list/l_3_2020082014361400000012051.jpg\n"
     ]
    },
    {
     "name": "stderr",
     "output_type": "stream",
     "text": [
      "60it [00:02, 22.47it/s]\n",
      "60it [00:02, 25.62it/s]\n",
      "22it [00:00, 21.61it/s]"
     ]
    },
    {
     "name": "stdout",
     "output_type": "stream",
     "text": [
      "casual / 내게 반하나? / 67 / https://image.msscdn.net/images/style/list/l_3_2020072716380000000052895.jpg\n"
     ]
    },
    {
     "name": "stderr",
     "output_type": "stream",
     "text": [
      "47it [00:01, 30.07it/s]"
     ]
    },
    {
     "name": "stdout",
     "output_type": "stream",
     "text": [
      "casual / 어디로 떠날래? / 67 / https://image.msscdn.net/images/style/list/l_3_2020072310453400000098140.jpg\n"
     ]
    },
    {
     "name": "stderr",
     "output_type": "stream",
     "text": [
      "60it [00:02, 27.32it/s]\n",
      "60it [00:02, 25.56it/s]\n",
      "25it [00:00, 30.24it/s]"
     ]
    },
    {
     "name": "stdout",
     "output_type": "stream",
     "text": [
      "casual / 너도 원해? / 69 / https://image.msscdn.net/images/style/list/l_3_2020071317270400000069777.jpg\n",
      "casual / 느낌 알지? / 69 / https://image.msscdn.net/images/style/list/l_3_2020071317175400000088066.jpg\n"
     ]
    },
    {
     "name": "stderr",
     "output_type": "stream",
     "text": [
      "60it [00:02, 25.34it/s]\n"
     ]
    }
   ],
   "source": [
    "cate = [ \"casual\" ] \n",
    "for c in cate:\n",
    "    \n",
    "    pg_num = 1\n",
    "    print(\"=\"*20 , c , \"=\"*20)\n",
    "    while True:\n",
    "\n",
    "        url = \"https://www.musinsa.com/app/styles/lists?use_yn_360=&style_type={}&brand=&model=&tag_no=&max_rt=&min_rt=&display_cnt=60&list_kind=big&sort=date&page={}\".format(c,pg_num)\n",
    "\n",
    "        req = requests.get(url, headers=headers)\n",
    "        time.sleep(0.75)\n",
    "        sp = BeautifulSoup(req.content, \"lxml\")\n",
    "        \n",
    "        tags = sp.select(\"li.style-list-item div.style-list-item__thumbnail a.style-list-item__link\")\n",
    "        img_tags = sp.select(\"div.style-list-thumbnail img.style-list-thumbnail__img\")\n",
    "\n",
    "        imgs_urls = []\n",
    "\n",
    "        for tag,img_tag in tqdm(zip(tags,img_tags)):\n",
    "            names = img_tag[\"alt\"]\n",
    "            img_tag2 = \"https:\" + img_tag[\"src\"]\n",
    "            req_src = requests.get(img_tag2)\n",
    "            imgs = req_src.content\n",
    "\n",
    "            try:\n",
    "\n",
    "                with open(\"사진/캐주얼/{}_{}_{}.jpg\".format(c,pg_num,names), \"wb\") as f:\n",
    "                    f.write(imgs)\n",
    "            except:\n",
    "\n",
    "                print(c, \"/\" ,names, \"/\", pg_num, \"/\", req_src.url)\n",
    "                continue\n",
    "            \n",
    "        pg_num += 1\n",
    "        \n",
    "\n",
    "        if pg_num == 70:\n",
    "            break"
   ]
  }
 ],
 "metadata": {
  "kernelspec": {
   "display_name": "Python 3.10.5 64-bit",
   "language": "python",
   "name": "python3"
  },
  "language_info": {
   "codemirror_mode": {
    "name": "ipython",
    "version": 3
   },
   "file_extension": ".py",
   "mimetype": "text/x-python",
   "name": "python",
   "nbconvert_exporter": "python",
   "pygments_lexer": "ipython3",
   "version": "3.10.5"
  },
  "orig_nbformat": 4,
  "vscode": {
   "interpreter": {
    "hash": "369f2c481f4da34e4445cda3fffd2e751bd1c4d706f27375911949ba6bb62e1c"
   }
  }
 },
 "nbformat": 4,
 "nbformat_minor": 2
}
