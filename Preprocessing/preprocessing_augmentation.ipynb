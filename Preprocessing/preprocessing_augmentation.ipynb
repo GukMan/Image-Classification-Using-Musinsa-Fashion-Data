{
  "cells": [
    {
      "cell_type": "markdown",
      "metadata": {
        "id": "fKPz82Sr93tl"
      },
      "source": [
        "## preprocessing"
      ]
    },
    {
      "cell_type": "code",
      "execution_count": null,
      "metadata": {
        "id": "g6r6yyY4TJJb"
      },
      "outputs": [],
      "source": [
        "import tensorflow as tf\n",
        "from tensorflow.keras import layers, models\n",
        "from tensorflow.keras.applications.resnet50 import ResNet50\n",
        "from tensorflow.keras.applications import VGG16\n",
        "from tensorflow.keras.layers import Dense, Flatten, MaxPooling2D\n",
        "from tensorflow.keras.layers import Dropout, BatchNormalization\n",
        "from tensorflow.keras import Input\n",
        "\n",
        "import numpy as np\n",
        "import matplotlib.pyplot as plt"
      ]
    },
    {
      "cell_type": "code",
      "execution_count": null,
      "metadata": {
        "id": "nesQOWKe9xfm"
      },
      "outputs": [],
      "source": [
        "import splitfolders\n",
        "import os   # 리눅스를 파이썬에서 쓰고 싶을 때\n",
        "import cv2\n",
        "import matplotlib.cm as cm\n",
        "import pickle\n",
        "from tensorflow.keras.preprocessing.image import ImageDataGenerator, array_to_img, img_to_array, load_img\n",
        "from sklearn.model_selection import train_test_split\n",
        "import pandas as pd"
      ]
    },
    {
      "cell_type": "markdown",
      "metadata": {
        "id": "_gjojIGLhALq"
      },
      "source": [
        "## 데이터 로드 및 탐색"
      ]
    },
    {
      "cell_type": "code",
      "source": [
        "!rm /content/dataset/test/casual/*\n",
        "!rm /content/dataset/test/dandy/*\n",
        "!rm /content/dataset/test/sports/*\n",
        "!rm /content/dataset/train/casual/*\n",
        "!rm /content/dataset/train/dandy/*\n",
        "!rm /content/dataset/train/sports/*\n",
        "!rm /content/dataset/val/casual/*\n",
        "!rm /content/dataset/val/dandy/*\n",
        "!rm /content/dataset/val/sports/*"
      ],
      "metadata": {
        "id": "OwJUiOAjMZJN"
      },
      "execution_count": null,
      "outputs": []
    },
    {
      "cell_type": "markdown",
      "metadata": {
        "id": "NDVuUtPNwL_L"
      },
      "source": [
        "## 데이터 로드"
      ]
    },
    {
      "cell_type": "code",
      "execution_count": null,
      "metadata": {
        "id": "ZeDUE2VBwM-n"
      },
      "outputs": [],
      "source": [
        "!unzip -q all.zip"
      ]
    },
    {
      "cell_type": "markdown",
      "metadata": {
        "id": "wn_SGCM8sRDd"
      },
      "source": [
        "### 데이터 전처리"
      ]
    },
    {
      "cell_type": "code",
      "execution_count": null,
      "metadata": {
        "colab": {
          "base_uri": "https://localhost:8080/"
        },
        "id": "iFEO15da-TQu",
        "outputId": "7c358e0a-e962-4812-b8b9-ce0c79c8d1cc"
      },
      "outputs": [
        {
          "output_type": "execute_result",
          "data": {
            "text/plain": [
              "['dandy', 'sports', 'casual']"
            ]
          },
          "metadata": {},
          "execution_count": 4
        }
      ],
      "source": [
        "folder_path = '/content/all'\n",
        "label_names = os.listdir(folder_path)\n",
        "\n",
        "label_names"
      ]
    },
    {
      "cell_type": "code",
      "execution_count": null,
      "metadata": {
        "id": "Ix7i0T_WsRDe"
      },
      "outputs": [],
      "source": [
        "dataset = {}\n",
        "\n",
        "# 이미지와 라벨 리스트에 담기\n",
        "for label in os.listdir(folder_path):\n",
        "    sub_path = folder_path+'/'+label+'/'\n",
        "    dataset[label] = []\n",
        "    for filename in os.listdir(sub_path):\n",
        "        dataset[label].append(sub_path+filename)"
      ]
    },
    {
      "cell_type": "markdown",
      "metadata": {
        "id": "6qWIRGZxSEzH"
      },
      "source": [
        "### rezise, reshape"
      ]
    },
    {
      "cell_type": "code",
      "execution_count": null,
      "metadata": {
        "id": "6X7qrTIS2vKE"
      },
      "outputs": [],
      "source": [
        "!mkdir resized"
      ]
    },
    {
      "cell_type": "code",
      "execution_count": null,
      "metadata": {
        "id": "zg71Bqz32y6j"
      },
      "outputs": [],
      "source": [
        "!mkdir resized/casual\n",
        "!mkdir resized/dandy\n",
        "!mkdir resized/sports"
      ]
    },
    {
      "cell_type": "code",
      "execution_count": null,
      "metadata": {
        "id": "oJxJ7TCksRDf"
      },
      "outputs": [],
      "source": [
        "for label, filenames in dataset.items():\n",
        "    for filename in filenames:\n",
        "        img = cv2.imread(filename)\n",
        "\n",
        "        ############### bigger 244 -> resize ###############\n",
        "        # 이미지의 x, y가 224이 넘을 경우 작게해주기\n",
        "        percent = 1\n",
        "        if(img.shape[1] > img.shape[0]) :       # 이미지의 가로가 세보다 크면 가로를 640으로 맞추고 세로를 비율에 맞춰서\n",
        "            percent = 224/img.shape[1]    # img.shape = (h, w, c) = (height, width, color)\n",
        "        else :\n",
        "            percent = 224/img.shape[0]\n",
        "\n",
        "                                             # ↓ 큰쪽 비율에↓ 맞춰서 무조건 작아짐!!\n",
        "        img = cv2.resize(img, dsize=(0, 0), fx=percent, fy=percent, interpolation=cv2.INTER_LINEAR)\n",
        "                # 이미지 범위 지정\n",
        "        y,x,h,w = (0,0,img.shape[0], img.shape[1])\n",
        "\n",
        "        \n",
        "        ############### zero(black) padding ###############\n",
        "        # 그림 주변에 검은색으로 칠하기\n",
        "        w_x = (224-(w-x))/2  # w_x = (224 - 그림)을 뺀 나머지 영역 크기 [ 그림나머지/2 [그림] 그림나머지/2 ]\n",
        "        h_y = (224-(h-y))/2\n",
        "\n",
        "        if(w_x < 0):         # 크기가 -면 0으로 지정.\n",
        "            w_x = 0\n",
        "        elif(h_y < 0):\n",
        "            h_y = 0\n",
        "\n",
        "\n",
        "        M = np.float32([[1,0,w_x], [0,1,h_y]])  #(2*3 이차원 행렬)\n",
        "        img_re = cv2.warpAffine(img, M, (224, 224)) #이동변환  \n",
        "       \n",
        "        # cv2.imwrite('{0}.jpg',image .format(file)) #파일저장\n",
        "        cv2.imwrite('resized/{0}/{1}'.format(label, filename.split(\"/\")[-1]) , img_re)"
      ]
    },
    {
      "cell_type": "code",
      "execution_count": null,
      "metadata": {
        "colab": {
          "base_uri": "https://localhost:8080/"
        },
        "id": "VYti6KO4sRDg",
        "outputId": "6ccc36e9-405a-4896-c673-95801c706ade"
      },
      "outputs": [
        {
          "output_type": "stream",
          "name": "stderr",
          "text": [
            "Copying files: 8551 files [00:00, 9567.14 files/s] \n"
          ]
        }
      ],
      "source": [
        "splitfolders.ratio('resized', output='dataset', seed=77, ratio=(0.6, 0.2, 0.2))\n",
        "                   # ↑ 알아서 분.                            #  ↑ train val test\n",
        "                   # ↑ resized의 각각 폴더들을 test, train, val로 각각 나눠줘야함"
      ]
    },
    {
      "cell_type": "code",
      "execution_count": null,
      "metadata": {
        "id": "EmoBa2BnsRDg"
      },
      "outputs": [],
      "source": [
        "folder_path = '/content/dataset/train'\n",
        "dataset_train = {}\n",
        "\n",
        "# 이미지와 라벨 리스트에 담기\n",
        "for label in os.listdir(folder_path):\n",
        "    sub_path = folder_path+'/'+label+'/'\n",
        "    dataset_train[label] = []\n",
        "    for filename in os.listdir(sub_path):\n",
        "        dataset_train[label].append(sub_path+filename)\n",
        "\n",
        "# dataset_train"
      ]
    },
    {
      "cell_type": "code",
      "execution_count": null,
      "metadata": {
        "id": "tEzTUbAA3Vfq"
      },
      "outputs": [],
      "source": [
        "folder_path = '/content/dataset/test'\n",
        "dataset_test = {}\n",
        "\n",
        "# 이미지와 라벨 리스트에 담기\n",
        "for label in os.listdir(folder_path):\n",
        "    sub_path = folder_path+'/'+label+'/'\n",
        "    dataset_test[label] = []\n",
        "    for filename in os.listdir(sub_path):\n",
        "        dataset_test[label].append(sub_path+filename)\n",
        "\n",
        "# dataset_test"
      ]
    },
    {
      "cell_type": "code",
      "execution_count": null,
      "metadata": {
        "id": "oew2ddFl3Vyw"
      },
      "outputs": [],
      "source": [
        "folder_path = '/content/dataset/val'\n",
        "dataset_val = {}\n",
        "\n",
        "# 이미지와 라벨 리스트에 담기\n",
        "for label in os.listdir(folder_path):\n",
        "    sub_path = folder_path+'/'+label+'/'\n",
        "    dataset_val[label] = []\n",
        "    for filename in os.listdir(sub_path):\n",
        "        dataset_val[label].append(sub_path+filename)\n",
        "\n",
        "# dataset_val"
      ]
    },
    {
      "cell_type": "markdown",
      "metadata": {
        "id": "Y9TxGOPTsRDg"
      },
      "source": [
        "## label to index (dictorary로 지정)"
      ]
    },
    {
      "cell_type": "code",
      "execution_count": null,
      "metadata": {
        "id": "FunXPmdWsRDg"
      },
      "outputs": [],
      "source": [
        "label2index = {'dandy' : 0, 'sports' : 1 , 'casual' : 2}"
      ]
    },
    {
      "cell_type": "code",
      "execution_count": null,
      "metadata": {
        "id": "m0epI39tO8wb"
      },
      "outputs": [],
      "source": [
        "x_train, y_train = [], []\n",
        "\n",
        "for label, filenames in dataset_train.items():\n",
        "    for filename in filenames:\n",
        "        image = cv2.imread(filename) # img를 array 형태로 변경\n",
        "\n",
        "        x_train.append(image)\n",
        "        y_train.append(label2index[label]) # label을 index로 변경"
      ]
    },
    {
      "cell_type": "code",
      "execution_count": null,
      "metadata": {
        "id": "CidL8VtE3KsO"
      },
      "outputs": [],
      "source": [
        "x_test, y_test = [], []\n",
        "\n",
        "for label, filenames in dataset_test.items():\n",
        "    for filename in filenames:\n",
        "        image = cv2.imread(filename) # img를 array 형태로 변경\n",
        "\n",
        "        x_test.append(image)\n",
        "        y_test.append(label2index[label]) # label을 index로 변경"
      ]
    },
    {
      "cell_type": "code",
      "execution_count": null,
      "metadata": {
        "id": "qj99hVAL3K39"
      },
      "outputs": [],
      "source": [
        "x_val, y_val = [], []\n",
        "\n",
        "for label, filenames in dataset_val.items():\n",
        "    for filename in filenames:\n",
        "        image = cv2.imread(filename) # img를 array 형태로 변경\n",
        "\n",
        "        x_val.append(image)\n",
        "        y_val.append(label2index[label]) # label을 index로 변경"
      ]
    },
    {
      "cell_type": "markdown",
      "metadata": {
        "id": "C52V7IIVsRDh"
      },
      "source": [
        "## array로 형변환"
      ]
    },
    {
      "cell_type": "code",
      "execution_count": null,
      "metadata": {
        "id": "3Txk2i59sRDh"
      },
      "outputs": [],
      "source": [
        "# array로 형변환\n",
        "x_train, y_train = np.array(x_train), np.array(y_train)\n",
        "x_test, y_test = np.array(x_test), np.array(y_test)\n",
        "x_val, y_val = np.array(x_val), np.array(y_val)"
      ]
    },
    {
      "cell_type": "code",
      "execution_count": null,
      "metadata": {
        "id": "x94zbZ5OsRDh"
      },
      "outputs": [],
      "source": [
        "x_train = x_train.astype('float32')\n",
        "x_test = x_test.astype('float32')\n",
        "x_val = x_val.astype('float32')"
      ]
    },
    {
      "cell_type": "code",
      "execution_count": null,
      "metadata": {
        "colab": {
          "base_uri": "https://localhost:8080/"
        },
        "id": "nocgsri6sRDh",
        "outputId": "c82206d5-4ed5-4a07-8860-a548041175af"
      },
      "outputs": [
        {
          "output_type": "execute_result",
          "data": {
            "text/plain": [
              "((6384, 224, 224, 3),\n",
              " (6384,),\n",
              " (1713, 224, 224, 3),\n",
              " (1713,),\n",
              " (1709, 224, 224, 3),\n",
              " (1709,))"
            ]
          },
          "metadata": {},
          "execution_count": 16
        }
      ],
      "source": [
        "x_train.shape, y_train.shape, x_test.shape, y_test.shape, x_val.shape, y_val.shape"
      ]
    },
    {
      "cell_type": "code",
      "source": [
        "len(dataset_train['casual']), len(dataset_train['sports']), len(dataset_train['dandy'])"
      ],
      "metadata": {
        "colab": {
          "base_uri": "https://localhost:8080/"
        },
        "id": "C1ekK1kqfCrk",
        "outputId": "56363919-9ad5-4de9-93b9-cf8df91ee658"
      },
      "execution_count": null,
      "outputs": [
        {
          "output_type": "execute_result",
          "data": {
            "text/plain": [
              "(2418, 1922, 2044)"
            ]
          },
          "metadata": {},
          "execution_count": 17
        }
      ]
    },
    {
      "cell_type": "markdown",
      "metadata": {
        "id": "Ej6QOwFOYtqF"
      },
      "source": [
        "## 증강 (Augmentation)"
      ]
    },
    {
      "cell_type": "code",
      "execution_count": null,
      "metadata": {
        "id": "RIDGr0wLYvt8"
      },
      "outputs": [],
      "source": [
        "datagen = ImageDataGenerator(\n",
        "    rotation_range=40,      # 랜덤으로 돌리기\n",
        "    width_shift_range=0.2,  # 지정된 수평방향 이동 범위내에서 임의로 원본이미지를 이동\n",
        "    height_shift_range=0.2, # 지정된 수직방향 이동 범위내에서 임의로 원본이미지를 이동\n",
        "    shear_range=0.2,\n",
        "    zoom_range=0.2,\n",
        "    horizontal_flip=True,\n",
        "    vertical_flip=True,\n",
        ")"
      ]
    },
    {
      "cell_type": "code",
      "execution_count": null,
      "metadata": {
        "id": "NnCVBgLvYzP6",
        "colab": {
          "base_uri": "https://localhost:8080/",
          "height": 35
        },
        "outputId": "ae433ab8-1320-47e2-e131-af9416a58064"
      },
      "outputs": [
        {
          "output_type": "execute_result",
          "data": {
            "text/plain": [
              "'/content/dataset/train'"
            ],
            "application/vnd.google.colaboratory.intrinsic+json": {
              "type": "string"
            }
          },
          "metadata": {},
          "execution_count": 20
        }
      ],
      "source": [
        "folder_path = '/content/dataset/train'\n",
        "folder_path"
      ]
    },
    {
      "cell_type": "code",
      "execution_count": null,
      "metadata": {
        "id": "ZjKFAOthY04W"
      },
      "outputs": [],
      "source": [
        "###################### 각 라벨별 증강 ######################\n",
        "for label in  os.listdir(folder_path):\n",
        "    label_path = folder_path + '/' + label + '/'\n",
        "    for filename in os.listdir(label_path): \n",
        "        filepath = label_path + filename\n",
        "\n",
        "        img = load_img(filepath)\n",
        "        x = img_to_array(img)\n",
        "        x = x.reshape((1,) + x.shape)    \n",
        "\n",
        "        i = 0           \n",
        "        for batch in datagen.flow(x, batch_size=1,\n",
        "                                save_to_dir=label_path, save_prefix=label, save_format='jpg'):\n",
        "            i += 1\n",
        "            if i > 2:  \n",
        "                break  "
      ]
    },
    {
      "cell_type": "markdown",
      "metadata": {
        "id": "qKpIzerVEq1Z"
      },
      "source": [
        "## Zero Centering"
      ]
    },
    {
      "cell_type": "code",
      "execution_count": null,
      "metadata": {
        "id": "oozByyoNEqkt"
      },
      "outputs": [],
      "source": [
        "def zero_mean(image):\n",
        "    # zero-centering\n",
        "    return np.mean(image, axis=0)"
      ]
    },
    {
      "cell_type": "code",
      "execution_count": null,
      "metadata": {
        "id": "Bv4U9MlVIG9v"
      },
      "outputs": [],
      "source": [
        "zero_mean_img = zero_mean(x_train)"
      ]
    },
    {
      "cell_type": "code",
      "execution_count": null,
      "metadata": {
        "id": "7nJvTSisHh1R"
      },
      "outputs": [],
      "source": [
        "x_train -= zero_mean_img"
      ]
    },
    {
      "cell_type": "code",
      "execution_count": null,
      "metadata": {
        "id": "wFK-JXTsZLb4"
      },
      "outputs": [],
      "source": [
        "x_val -= zero_mean_img\n",
        "x_test -= zero_mean_img"
      ]
    }
  ],
  "metadata": {
    "accelerator": "GPU",
    "colab": {
      "machine_shape": "hm",
      "provenance": []
    },
    "gpuClass": "standard",
    "kernelspec": {
      "display_name": "Python 3.10.5 64-bit",
      "language": "python",
      "name": "python3"
    },
    "language_info": {
      "codemirror_mode": {
        "name": "ipython",
        "version": 3
      },
      "file_extension": ".py",
      "mimetype": "text/x-python",
      "name": "python",
      "nbconvert_exporter": "python",
      "pygments_lexer": "ipython3",
      "version": "3.10.5"
    },
    "vscode": {
      "interpreter": {
        "hash": "369f2c481f4da34e4445cda3fffd2e751bd1c4d706f27375911949ba6bb62e1c"
      }
    }
  },
  "nbformat": 4,
  "nbformat_minor": 0
}