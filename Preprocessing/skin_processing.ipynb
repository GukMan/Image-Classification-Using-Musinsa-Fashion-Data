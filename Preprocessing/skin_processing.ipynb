{
  "cells": [
    {
      "cell_type": "code",
      "execution_count": null,
      "metadata": {
        "id": "pKhSOeF-nqLm"
      },
      "outputs": [],
      "source": [
        "import os\n",
        "import shutil\n",
        "import pandas as pd\n",
        "import re\n",
        "import cv2\n",
        "import unicodedata\n",
        "from tqdm import tqdm\n",
        "from google.colab.patches import cv2_imshow\n",
        "import matplotlib.pyplot as plt\n",
        "import matplotlib.image as mpimg\n",
        "import numpy as np"
      ]
    },
    {
      "cell_type": "code",
      "execution_count": null,
      "metadata": {
        "colab": {
          "base_uri": "https://localhost:8080/"
        },
        "id": "-_0kF-U8k2nW",
        "outputId": "5e153281-8e42-4055-e852-11ab03c4e2dc"
      },
      "outputs": [
        {
          "output_type": "stream",
          "name": "stdout",
          "text": [
            "Looking in indexes: https://pypi.org/simple, https://us-python.pkg.dev/colab-wheels/public/simple/\n",
            "Requirement already satisfied: opencv-python in /usr/local/lib/python3.7/dist-packages (4.6.0.66)\n",
            "Requirement already satisfied: numpy>=1.14.5 in /usr/local/lib/python3.7/dist-packages (from opencv-python) (1.21.6)\n"
          ]
        }
      ],
      "source": [
        "pip install opencv-python"
      ]
    },
    {
      "cell_type": "markdown",
      "metadata": {
        "id": "72aj6jxyTgbY"
      },
      "source": [
        "라벨 리스트 만들기"
      ]
    },
    {
      "cell_type": "code",
      "execution_count": null,
      "metadata": {
        "id": "DRTe2EYe2FxY"
      },
      "outputs": [],
      "source": [
        "col=[\"Title\", \"Style\",\"Gender\", \"Season\"]"
      ]
    },
    {
      "cell_type": "code",
      "execution_count": null,
      "metadata": {
        "id": "N2CfLXfu1GAU"
      },
      "outputs": [],
      "source": [
        "df = pd.read_csv('1.csv', encoding = 'cp949', names = col)"
      ]
    },
    {
      "cell_type": "code",
      "execution_count": null,
      "metadata": {
        "colab": {
          "base_uri": "https://localhost:8080/",
          "height": 35
        },
        "id": "QphIHVpP45b7",
        "outputId": "fc82afc9-94d3-40cc-f9f9-c031ea6f38ba"
      },
      "outputs": [
        {
          "output_type": "execute_result",
          "data": {
            "text/plain": [
              "'dandy_1_간편한 셋업 룩'"
            ],
            "application/vnd.google.colaboratory.intrinsic+json": {
              "type": "string"
            }
          },
          "metadata": {},
          "execution_count": 5
        }
      ],
      "source": [
        "df['Title'][0]"
      ]
    },
    {
      "cell_type": "code",
      "execution_count": null,
      "metadata": {
        "id": "kLqUMMlb2ds8"
      },
      "outputs": [],
      "source": [
        "path = '/content/drive/MyDrive/Colab Notebooks/imgimg'"
      ]
    },
    {
      "cell_type": "code",
      "execution_count": null,
      "metadata": {
        "id": "kssqkrea2AmP"
      },
      "outputs": [],
      "source": [
        "mu_list = os.listdir(path)"
      ]
    },
    {
      "cell_type": "code",
      "execution_count": null,
      "metadata": {
        "id": "vw8YmQmf4AlE"
      },
      "outputs": [],
      "source": [
        "dic_label = {\n",
        "    'male_list' : [],\n",
        "    'female_list' : [],\n",
        "    'spring_list' : [],\n",
        "    'summer_list' : [],\n",
        "    'winter_list' : [],\n",
        "    'dandy_list' : [],\n",
        "    'sports_list' : [],\n",
        "    'casual_list' : []\n",
        "}"
      ]
    },
    {
      "cell_type": "code",
      "execution_count": null,
      "metadata": {
        "id": "JiMhGvjB5aFK"
      },
      "outputs": [],
      "source": [
        "for i in range(len(df['Title'])):\n",
        "  if df['Gender'][i] == 0:\n",
        "    dic_label['male_list'].append(df['Title'][i])\n",
        "  else:\n",
        "    dic_label['female_list'].append(df['Title'][i])\n",
        "  \n",
        "  if df['Season'][i] == 0:\n",
        "    dic_label['spring_list'].append(df['Title'][i])\n",
        "  elif df['Season'][i] == 1:\n",
        "    dic_label['summer_list'].append(df['Title'][i])\n",
        "  else:\n",
        "    dic_label['winter_list'].append(df['Title'][i])\n",
        "  \n",
        "  if df['Style'][i] == 0:\n",
        "    dic_label['dandy_list'].append(df['Title'][i])\n",
        "  elif df['Style'][i] == 1:\n",
        "    dic_label['sports_list'].append(df['Title'][i])\n",
        "  else:\n",
        "    dic_label['casual_list'].append(df['Title'][i])\n",
        "\n"
      ]
    },
    {
      "cell_type": "code",
      "execution_count": null,
      "metadata": {
        "colab": {
          "base_uri": "https://localhost:8080/"
        },
        "id": "gsIZQiA0_Zpr",
        "outputId": "fc7cb114-d859-4078-ecbd-5af9f0b6f5c9"
      },
      "outputs": [
        {
          "output_type": "execute_result",
          "data": {
            "text/plain": [
              "1112"
            ]
          },
          "metadata": {},
          "execution_count": 10
        }
      ],
      "source": [
        "len(dic_label['sports_list'])"
      ]
    },
    {
      "cell_type": "markdown",
      "metadata": {
        "id": "VaYnPPIATafx"
      },
      "source": [
        "유니코드 맞춰주기"
      ]
    },
    {
      "cell_type": "code",
      "execution_count": null,
      "metadata": {
        "id": "hO5OMMkl9fbT"
      },
      "outputs": [],
      "source": [
        "uni = []\n",
        "for i in mu_list:\n",
        "  uni.append(unicodedata.normalize('NFC', i))\n"
      ]
    },
    {
      "cell_type": "markdown",
      "metadata": {
        "id": "Tp9rkEofTNjD"
      },
      "source": [
        "계절 폴더나누기"
      ]
    },
    {
      "cell_type": "code",
      "execution_count": null,
      "metadata": {
        "id": "oHV-EiJ-2krw"
      },
      "outputs": [],
      "source": [
        "!mkdir 계절\n",
        "!mkdir 계절/봄가을\n",
        "!mkdir 계절/여름\n",
        "!mkdir 계절/겨울"
      ]
    },
    {
      "cell_type": "code",
      "execution_count": null,
      "metadata": {
        "colab": {
          "base_uri": "https://localhost:8080/"
        },
        "id": "w39kZ-THuOdf",
        "outputId": "3e90d027-c380-4061-af8b-82a8635f5e38"
      },
      "outputs": [
        {
          "output_type": "stream",
          "name": "stderr",
          "text": [
            "100%|██████████| 8551/8551 [02:49<00:00, 50.43it/s]  \n"
          ]
        }
      ],
      "source": [
        "for i in tqdm( range(len(mu_list))):\n",
        "  try:\n",
        "    if uni[i].split('.')[0] in dic_label['spring_list']:\n",
        "      lie = path + '/' + unicodedata.normalize('NFD', mu_list[i])\n",
        "      shutil.copy(lie, '/content/계절/봄가을')\n",
        "  except:\n",
        "    print(i)\n",
        "    pass"
      ]
    },
    {
      "cell_type": "code",
      "execution_count": null,
      "metadata": {
        "colab": {
          "base_uri": "https://localhost:8080/"
        },
        "id": "wsXQkcfRuOTt",
        "outputId": "b09bed51-54fc-40a8-8c98-09f9830ac976"
      },
      "outputs": [
        {
          "output_type": "stream",
          "name": "stderr",
          "text": [
            "100%|██████████| 8551/8551 [00:03<00:00, 2673.05it/s]\n"
          ]
        }
      ],
      "source": [
        "for i in tqdm( range(len(mu_list))):\n",
        "  try:\n",
        "    if uni[i].split('.')[0] in dic_label['summer_list']:\n",
        "      lie = path + '/' + unicodedata.normalize('NFD', mu_list[i])\n",
        "      shutil.copy(lie, '/content/계절/여름')\n",
        "  except:\n",
        "    print(i)\n",
        "    pass"
      ]
    },
    {
      "cell_type": "code",
      "execution_count": null,
      "metadata": {
        "colab": {
          "base_uri": "https://localhost:8080/"
        },
        "id": "rN175rf7ubSj",
        "outputId": "300a1115-52e8-4e53-b5c2-503fcdbae8f1"
      },
      "outputs": [
        {
          "output_type": "stream",
          "name": "stderr",
          "text": [
            "100%|██████████| 8551/8551 [00:02<00:00, 3074.60it/s]\n"
          ]
        }
      ],
      "source": [
        "for i in tqdm( range(len(mu_list))):\n",
        "  try:\n",
        "    if uni[i].split('.')[0] in dic_label['winter_list']:\n",
        "      lie = path + '/' + unicodedata.normalize('NFD', mu_list[i])\n",
        "      shutil.copy(lie, '/content/계절/겨울')\n",
        "  except:\n",
        "    print(i)\n",
        "    pass"
      ]
    },
    {
      "cell_type": "code",
      "execution_count": null,
      "metadata": {
        "id": "QgAPx2_wyqo7"
      },
      "outputs": [],
      "source": [
        "path_season = '/content/계절'\n",
        "label_season = os.listdir(path_season)"
      ]
    },
    {
      "cell_type": "code",
      "execution_count": null,
      "metadata": {
        "id": "KT7qH5IDy3f5"
      },
      "outputs": [],
      "source": [
        "dataset_season = {}\n",
        "for i in os.listdir(path_season):\n",
        "  sub_path = path_season + '/' + i + '/'\n",
        "  dataset_season[i] = []\n",
        "  for j in os.listdir(sub_path):\n",
        "    dataset_season[i].append(sub_path+j)"
      ]
    },
    {
      "cell_type": "code",
      "execution_count": null,
      "metadata": {
        "colab": {
          "base_uri": "https://localhost:8080/"
        },
        "id": "gMpH80R20ioM",
        "outputId": "b7d7629f-099f-4924-a81a-8556921c01be"
      },
      "outputs": [
        {
          "output_type": "execute_result",
          "data": {
            "text/plain": [
              "3"
            ]
          },
          "metadata": {},
          "execution_count": 18
        }
      ],
      "source": [
        "len(dataset_season)"
      ]
    },
    {
      "cell_type": "markdown",
      "metadata": {
        "id": "Rpd0biwuS9hB"
      },
      "source": [
        "resize 전처리"
      ]
    },
    {
      "cell_type": "code",
      "execution_count": null,
      "metadata": {
        "id": "7hKhjbXWy-hm"
      },
      "outputs": [],
      "source": [
        "!mkdir resized\n",
        "!mkdir resized/봄가을\n",
        "!mkdir resized/여름\n",
        "!mkdir resized/겨울"
      ]
    },
    {
      "cell_type": "code",
      "execution_count": null,
      "metadata": {
        "id": "g1AFGPuemV1I"
      },
      "outputs": [],
      "source": [
        "for label, filenames in dataset_season.items():\n",
        "    for filename in filenames:\n",
        "        img = cv2.imread(filename)\n",
        "\n",
        "        # 이미지의 x, y가 224이 넘을 경우 작게해주기\n",
        "        percent = 1\n",
        "        if(img.shape[1] > img.shape[0]) :       # 이미지의 가로가 세보다 크면 가로를 640으로 맞추고 세로를 비율에 맞춰서\n",
        "            percent = 224/img.shape[1]\n",
        "        else :\n",
        "            percent = 224/img.shape[0]\n",
        "\n",
        "        img = cv2.resize(img, dsize=(0, 0), fx=percent, fy=percent, interpolation=cv2.INTER_LINEAR)\n",
        "                # 이미지 범위 지정\n",
        "        y,x,h,w = (0,0,img.shape[0], img.shape[1])\n",
        "\n",
        "        # 그림 주변에 검은색으로 칠하기\n",
        "        w_x = (224-(w-x))/2  # w_x = (224 - 그림)을 뺀 나머지 영역 크기 [ 그림나머지/2 [그림] 그림나머지/2 ]\n",
        "        h_y = (224-(h-y))/2\n",
        "\n",
        "        if(w_x < 0):         # 크기가 -면 0으로 지정.\n",
        "            w_x = 0\n",
        "        elif(h_y < 0):\n",
        "            h_y = 0\n",
        "\n",
        "        M = np.float32([[1,0,w_x], [0,1,h_y]])  #(2*3 이차원 행렬)\n",
        "        img_re = cv2.warpAffine(img, M, (224, 224)) #이동변환  \n",
        "       \n",
        "        # cv2.imwrite('{0}.jpg',image .format(file)) #파일저장\n",
        "        cv2.imwrite('/content/resized/{0}/{1}'.format(label, filename.split(\"/\")[-1]) , img_re)"
      ]
    },
    {
      "cell_type": "code",
      "execution_count": null,
      "metadata": {
        "id": "BdlNqiqUmaSC"
      },
      "outputs": [],
      "source": [
        "path2 = '/content/resized'"
      ]
    },
    {
      "cell_type": "code",
      "execution_count": null,
      "metadata": {
        "id": "5JxL55N3mfol"
      },
      "outputs": [],
      "source": [
        "dataset2 = {}\n",
        "for i in os.listdir(path2):\n",
        "  sub_path = path2 + '/' + i + '/'\n",
        "  dataset2[i] = []\n",
        "  for j in os.listdir(sub_path):\n",
        "    dataset2[i].append(sub_path+j)"
      ]
    },
    {
      "cell_type": "code",
      "execution_count": null,
      "metadata": {
        "colab": {
          "base_uri": "https://localhost:8080/"
        },
        "id": "JDE7JGWm11M5",
        "outputId": "d869d364-d907-465e-98a3-52a5bdacbcc5"
      },
      "outputs": [
        {
          "output_type": "execute_result",
          "data": {
            "text/plain": [
              "1393"
            ]
          },
          "metadata": {},
          "execution_count": 23
        }
      ],
      "source": [
        "len(dataset2['겨울'])"
      ]
    },
    {
      "cell_type": "markdown",
      "metadata": {
        "id": "vZ0iAG-YSm4c"
      },
      "source": [
        "skin 전처리 : 살색을 제외하고 검정색으로 처리\n"
      ]
    },
    {
      "cell_type": "code",
      "execution_count": null,
      "metadata": {
        "id": "GhIvpK9WmiMb"
      },
      "outputs": [],
      "source": [
        "!mkdir skin\n",
        "!mkdir skin/봄가을\n",
        "!mkdir skin/여름\n",
        "!mkdir skin/겨울\n"
      ]
    },
    {
      "cell_type": "code",
      "execution_count": null,
      "metadata": {
        "id": "G7sD2pzVmmgt"
      },
      "outputs": [],
      "source": [
        "skin_color = (255, 195, 150)\n",
        "skin_min = (0, 48, 80)\n",
        "skin_max = (20, 255, 255)"
      ]
    },
    {
      "cell_type": "code",
      "execution_count": null,
      "metadata": {
        "id": "FBo6Fr5XmpJP"
      },
      "outputs": [],
      "source": [
        "for label, filenames in dataset2.items():\n",
        "    for filename in filenames:\n",
        "        img = cv2.imread(filename, cv2.IMREAD_COLOR)\n",
        "        img_hsv = cv2.cvtColor(img, cv2.COLOR_BGR2HSV)\n",
        "        img_mask = cv2.inRange(img_hsv, skin_min, skin_max)\n",
        "        img_skin = cv2.bitwise_and(img, img, mask = img_mask)\n",
        "\n",
        "\n",
        "\n",
        "        # cv2.imwrite('{0}.jpg',image .format(file)) #파일저장\n",
        "        cv2.imwrite('/content/skin/{0}/{1}'.format(label, filename.split(\"/\")[-1]) , img_skin)"
      ]
    },
    {
      "cell_type": "code",
      "execution_count": null,
      "metadata": {
        "id": "O11haomJT40V"
      },
      "outputs": [],
      "source": [
        "path3 = '/content/skin'"
      ]
    },
    {
      "cell_type": "code",
      "execution_count": null,
      "metadata": {
        "id": "25pSAR4KT4qx"
      },
      "outputs": [],
      "source": [
        "dataset3 = {}\n",
        "for i in os.listdir(path3):\n",
        "  sub_path = path3 + '/' + i + '/'\n",
        "  dataset3[i] = []\n",
        "  for j in os.listdir(sub_path):\n",
        "    dataset3[i].append(sub_path+j)"
      ]
    }
  ],
  "metadata": {
    "colab": {
      "provenance": []
    },
    "kernelspec": {
      "display_name": "Python 3",
      "name": "python3"
    },
    "language_info": {
      "name": "python"
    }
  },
  "nbformat": 4,
  "nbformat_minor": 0
}