{
  "cells": [
    {
      "cell_type": "markdown",
      "source": [
        "# Import & Mount"
      ],
      "metadata": {
        "id": "F9Pe0CUO9Nqo"
      }
    },
    {
      "cell_type": "code",
      "execution_count": null,
      "metadata": {
        "id": "9ZwEIGSGCC-y"
      },
      "outputs": [],
      "source": [
        "pip install split-folders"
      ]
    },
    {
      "cell_type": "code",
      "source": [
        "from tensorflow.keras.applications.resnet50 import ResNet50\n",
        "from tensorflow.keras import datasets, layers, models\n",
        "from tensorflow.keras.layers import Dense, Flatten, MaxPooling2D\n",
        "from tensorflow.keras import Input\n",
        "from tensorflow.keras.layers import Dropout, BatchNormalization\n",
        "import matplotlib.pyplot as plt\n",
        "from sklearn.model_selection import train_test_split\n",
        "from tensorflow.keras.preprocessing.image import ImageDataGenerator, array_to_img, img_to_array, load_img"
      ],
      "metadata": {
        "id": "SPv6I6rPr9HG"
      },
      "execution_count": null,
      "outputs": []
    },
    {
      "cell_type": "code",
      "execution_count": null,
      "metadata": {
        "id": "II7QuChHHouB"
      },
      "outputs": [],
      "source": [
        "import splitfolders\n",
        "import os   \n",
        "import cv2 \n",
        "import numpy as np\n",
        "from matplotlib import pyplot as plt\n",
        "import matplotlib.cm as cm\n",
        "import tensorflow as tf\n",
        "import pickle\n",
        "from PIL import Image\n",
        "import pandas as pd\n",
        "from tqdm import tqdm\n",
        "from keras.preprocessing import image"
      ]
    },
    {
      "cell_type": "code",
      "execution_count": null,
      "metadata": {
        "colab": {
          "base_uri": "https://localhost:8080/"
        },
        "id": "ZbfGccMRmz5l",
        "outputId": "4fdd4853-59b1-4bc0-9373-1424e07d527f"
      },
      "outputs": [
        {
          "output_type": "stream",
          "name": "stdout",
          "text": [
            "Mounted at /content/drive\n"
          ]
        }
      ],
      "source": [
        "from google.colab import drive\n",
        "drive.mount('/content/drive')"
      ]
    },
    {
      "cell_type": "markdown",
      "source": [
        "# 데이터 준비 "
      ],
      "metadata": {
        "id": "3GYuKrTh9VXg"
      }
    },
    {
      "cell_type": "code",
      "execution_count": null,
      "metadata": {
        "id": "33Mrgh7oQteD"
      },
      "outputs": [],
      "source": [
        "col=[\"Title\", \"Style\",\"Gender\", \"Season\"]"
      ]
    },
    {
      "cell_type": "code",
      "execution_count": null,
      "metadata": {
        "id": "MaQDdDhnQteD"
      },
      "outputs": [],
      "source": [
        "df = pd.read_csv(\"/content/drive/MyDrive/이미지인식 프로젝트/이미지마이닝_통합.csv\", names = col)"
      ]
    },
    {
      "cell_type": "code",
      "execution_count": null,
      "metadata": {
        "colab": {
          "base_uri": "https://localhost:8080/"
        },
        "id": "A2RfL-dJQteE",
        "outputId": "21329d1f-f3ab-4dbf-8e2e-8efe467c6697"
      },
      "outputs": [
        {
          "output_type": "stream",
          "name": "stderr",
          "text": [
            "100%|██████████| 3221/3221 [07:28<00:00,  7.18it/s]\n"
          ]
        }
      ],
      "source": [
        "# 성별 - 남자 \n",
        "\n",
        "title_man = df['Title'][df['Gender'] == 0].tolist()\n",
        "\n",
        "for name in tqdm( title_man ):\n",
        "    try:\n",
        "        im = Image.open(\"/content/drive/MyDrive/이미지인식 프로젝트/최종/{}.jpg\".format(name))        \n",
        "        im.save('images/man/{}.jpg'.format(name))\n",
        "    except:\n",
        "        pass\n",
        "\n"
      ]
    },
    {
      "cell_type": "code",
      "execution_count": null,
      "metadata": {
        "id": "XZon1y6cGqcN",
        "colab": {
          "base_uri": "https://localhost:8080/"
        },
        "outputId": "6878e742-f400-4fde-9485-71d795231d49"
      },
      "outputs": [
        {
          "output_type": "stream",
          "name": "stderr",
          "text": [
            "100%|██████████| 1892/1892 [04:13<00:00,  7.47it/s]\n"
          ]
        }
      ],
      "source": [
        "# 성별 - 여자 \n",
        "\n",
        "title_woman = df['Title'][df['Gender'] == 1].tolist()\n",
        "\n",
        "\n",
        "for name in tqdm( title_woman ):\n",
        "    try:\n",
        "        im = Image.open(\"/content/drive/MyDrive/이미지인식 프로젝트/최종/{}.jpg\".format(name))        \n",
        "        im.save('images/woman/{}.jpg'.format(name))\n",
        "    except:\n",
        "        pass\n",
        "\n"
      ]
    },
    {
      "cell_type": "markdown",
      "metadata": {
        "id": "GlakGf8V5AzE"
      },
      "source": [
        "# Preprocessing"
      ]
    },
    {
      "cell_type": "code",
      "execution_count": null,
      "metadata": {
        "id": "kDcKHikZHooE",
        "colab": {
          "base_uri": "https://localhost:8080/"
        },
        "outputId": "f27fa479-f70d-44a1-85ba-09925d16bdf3"
      },
      "outputs": [
        {
          "output_type": "execute_result",
          "data": {
            "text/plain": [
              "['man', 'woman']"
            ]
          },
          "metadata": {},
          "execution_count": 12
        }
      ],
      "source": [
        "folder_path = '/content/images'   \n",
        "label_names = os.listdir(folder_path)  \n",
        "label_names.remove('.ipynb_checkpoints')\n",
        "label_names"
      ]
    },
    {
      "cell_type": "code",
      "execution_count": null,
      "metadata": {
        "id": "OUzalqjiHolj"
      },
      "outputs": [],
      "source": [
        "# 각 이미지 경로 만들어주기 \n",
        "\n",
        "dataset = {}\n",
        "\n",
        "# 이미지와 라벨 리스트에 담기\n",
        "for label in os.listdir(folder_path):  \n",
        "    sub_path = folder_path+'/'+label+'/'  \n",
        "    dataset[label] = []  \n",
        "    for filename in os.listdir(sub_path): \n",
        "        dataset[label].append(sub_path+filename)\n",
        "dataset"
      ]
    },
    {
      "cell_type": "code",
      "execution_count": null,
      "metadata": {
        "id": "4pJk18D4HojP"
      },
      "outputs": [],
      "source": [
        "!mkdir resized"
      ]
    },
    {
      "cell_type": "code",
      "execution_count": null,
      "metadata": {
        "id": "xoO5oAcAHohH"
      },
      "outputs": [],
      "source": [
        "# 이미지 resize 후 resized폴더에 저장 \n",
        "\n",
        "!mkdir resized/man\n",
        "!mkdir resized/woman"
      ]
    },
    {
      "cell_type": "code",
      "execution_count": null,
      "metadata": {
        "id": "06XZ0W3sHoe_"
      },
      "outputs": [],
      "source": [
        "dataset.items()"
      ]
    },
    {
      "cell_type": "code",
      "execution_count": null,
      "metadata": {
        "id": "GOzRBoWaHocf"
      },
      "outputs": [],
      "source": [
        "for label, filenames in dataset.items():  \n",
        "    for filename in filenames:\n",
        "        try:\n",
        "            img = cv2.imread(filename)\n",
        "\n",
        "            percent = 1\n",
        "            if(img.shape[1] > img.shape[0]) :      \n",
        "                percent = 224/img.shape[1]\n",
        "            else :\n",
        "                percent = 224/img.shape[0]\n",
        "\n",
        "            img = cv2.resize(img, dsize=(0, 0), fx=percent, fy=percent, interpolation=cv2.INTER_LINEAR)\n",
        "\n",
        "            y,x,h,w = (0,0,img.shape[0], img.shape[1])\n",
        "\n",
        "\n",
        "            w_x = (224-(w-x))/2  \n",
        "            h_y = (224-(h-y))/2\n",
        "\n",
        "            if(w_x < 0):        \n",
        "                w_x = 0\n",
        "            elif(h_y < 0):\n",
        "                h_y = 0\n",
        "\n",
        "            M = np.float32([[1,0,w_x], [0,1,h_y]])  #(2*3 이차원 행렬)\n",
        "            img_re = cv2.warpAffine(img, M, (224, 224)) #이동변환  # 패딩 \n",
        "\n",
        "            # cv2.imwrite('{0}.jpg',image .format(file)) #파일저장\n",
        "            cv2.imwrite('/content/resized/{0}/{1}'.format(label, filename.split(\"/\")[-1]) , img_re)\n",
        "        except:\n",
        "            pass"
      ]
    },
    {
      "cell_type": "markdown",
      "source": [
        "# train, validation, test set 분할"
      ],
      "metadata": {
        "id": "FYrztJFk-ZX1"
      }
    },
    {
      "cell_type": "code",
      "execution_count": null,
      "metadata": {
        "id": "BUqO3CbZRhyM",
        "colab": {
          "base_uri": "https://localhost:8080/"
        },
        "outputId": "4696d347-4ed0-45d1-918a-5041dedb08ee"
      },
      "outputs": [
        {
          "output_type": "stream",
          "name": "stderr",
          "text": [
            "Copying files: 7827 files [00:01, 6753.82 files/s]\n"
          ]
        }
      ],
      "source": [
        "splitfolders.ratio('resized', output='dataset', seed=77, ratio=(0.6, 0.2, 0.2))  "
      ]
    },
    {
      "cell_type": "code",
      "execution_count": null,
      "metadata": {
        "id": "Y5sUAXacHoaT"
      },
      "outputs": [],
      "source": [
        "folder_path = '/content/dataset/train'\n",
        "dataset = {}\n",
        "\n",
        "# 이미지와 라벨 리스트에 담기\n",
        "for label in os.listdir(folder_path):\n",
        "    sub_path = folder_path+'/'+label+'/'\n",
        "    dataset[label] = []\n",
        "    for filename in os.listdir(sub_path):\n",
        "        dataset[label].append(sub_path+filename)\n",
        "\n",
        "dataset"
      ]
    },
    {
      "cell_type": "code",
      "execution_count": null,
      "metadata": {
        "id": "4TFeOG2iHoYK"
      },
      "outputs": [],
      "source": [
        "label_gender = {'man':0, 'woman':1}"
      ]
    },
    {
      "cell_type": "code",
      "execution_count": null,
      "metadata": {
        "id": "GGlUg-7mgi8Y"
      },
      "outputs": [],
      "source": [
        "x_train, y_train = [], []\n",
        "\n",
        "for label, filenames in dataset.items():\n",
        "    for filename in filenames:\n",
        "        image = cv2.imread(filename) \n",
        "\n",
        "        x_train.append(image)\n",
        "        y_train.append(label_gender[label])"
      ]
    },
    {
      "cell_type": "code",
      "execution_count": null,
      "metadata": {
        "id": "MXxQJZm3gi6Z"
      },
      "outputs": [],
      "source": [
        "x_train, y_train = np.array(x_train), np.array(y_train)"
      ]
    },
    {
      "cell_type": "code",
      "execution_count": null,
      "metadata": {
        "id": "5Nl0qVqbgi4X"
      },
      "outputs": [],
      "source": [
        "x_train = x_train.astype('float32')"
      ]
    },
    {
      "cell_type": "code",
      "execution_count": null,
      "metadata": {
        "id": "rvyW3D4mgi2J",
        "colab": {
          "base_uri": "https://localhost:8080/"
        },
        "outputId": "364a3243-a885-40a5-9ece-1a125c09fb60"
      },
      "outputs": [
        {
          "output_type": "execute_result",
          "data": {
            "text/plain": [
              "((4695, 224, 224, 3), (4695,))"
            ]
          },
          "metadata": {},
          "execution_count": 25
        }
      ],
      "source": [
        "x_train.shape, y_train.shape"
      ]
    },
    {
      "cell_type": "markdown",
      "metadata": {
        "id": "20P4rGrHCAWg"
      },
      "source": [
        "# train set 증강 및 형변환"
      ]
    },
    {
      "cell_type": "code",
      "execution_count": null,
      "metadata": {
        "id": "uHcFzX2Bjagu"
      },
      "outputs": [],
      "source": [
        "datagen = ImageDataGenerator(\n",
        "    rotation_range=40,\n",
        "    width_shift_range=0.2,\n",
        "    height_shift_range=0.2,\n",
        "    shear_range=0.2,    # 사다리꼴로 \n",
        "    zoom_range=0.2,\n",
        "    horizontal_flip=True,\n",
        "    vertical_flip=True,\n",
        ")"
      ]
    },
    {
      "cell_type": "code",
      "execution_count": null,
      "metadata": {
        "id": "fA5y6Wfgjaeq",
        "colab": {
          "base_uri": "https://localhost:8080/",
          "height": 36
        },
        "outputId": "3cbe6118-6936-444a-97b0-b979d3c8baba"
      },
      "outputs": [
        {
          "output_type": "execute_result",
          "data": {
            "text/plain": [
              "'/content/dataset/train'"
            ],
            "application/vnd.google.colaboratory.intrinsic+json": {
              "type": "string"
            }
          },
          "metadata": {},
          "execution_count": 27
        }
      ],
      "source": [
        "folder_path"
      ]
    },
    {
      "cell_type": "code",
      "execution_count": null,
      "metadata": {
        "id": "c9ni9Lbkjacn"
      },
      "outputs": [],
      "source": [
        "for label in  os.listdir(folder_path):\n",
        "    label_path = folder_path + '/' + label + '/'\n",
        "    for filename in os.listdir(label_path): \n",
        "        filepath = label_path + filename\n",
        "\n",
        "        img = load_img(filepath)\n",
        "\n",
        "        x = img_to_array(img)\n",
        "\n",
        "        x = x.reshape((1,) + x.shape)  # batch size = 1\n",
        "\n",
        "        i = 0\n",
        "\n",
        "        for batch in datagen.flow(x, batch_size=1,\n",
        "                                save_to_dir=label_path, save_prefix=label, save_format='jpg'):\n",
        "            i += 1\n",
        "            if i > 2:   \n",
        "                break  "
      ]
    },
    {
      "cell_type": "code",
      "execution_count": null,
      "metadata": {
        "id": "Ds-VXhuKCdSd"
      },
      "outputs": [],
      "source": [
        "folder_path = '/content/dataset/train'\n",
        "dataset = {}\n",
        "\n",
        "# 이미지와 라벨 리스트에 담기\n",
        "for label in os.listdir(folder_path):\n",
        "    sub_path = folder_path+'/'+label+'/'\n",
        "    dataset[label] = []\n",
        "    for filename in os.listdir(sub_path):\n",
        "        dataset[label].append(sub_path+filename)\n",
        "\n",
        "dataset"
      ]
    },
    {
      "cell_type": "code",
      "execution_count": null,
      "metadata": {
        "id": "NZ10FkT0CdQJ"
      },
      "outputs": [],
      "source": [
        "label_gender = {'man':0, 'woman':1}"
      ]
    },
    {
      "cell_type": "code",
      "execution_count": null,
      "metadata": {
        "id": "EvI52Er7CdNn"
      },
      "outputs": [],
      "source": [
        "x_train, y_train = [], []\n",
        "\n",
        "for label, filenames in dataset.items():\n",
        "    for filename in filenames:\n",
        "        image = cv2.imread(filename)\n",
        "\n",
        "        x_train.append(image)\n",
        "        y_train.append(label_gender[label]) "
      ]
    },
    {
      "cell_type": "code",
      "execution_count": null,
      "metadata": {
        "id": "8Y-qBEzdCdLT"
      },
      "outputs": [],
      "source": [
        "x_train, y_train = np.array(x_train), np.array(y_train)"
      ]
    },
    {
      "cell_type": "code",
      "execution_count": null,
      "metadata": {
        "id": "ZmyWqf4Tjaal"
      },
      "outputs": [],
      "source": [
        "x_train = x_train.astype('float32')"
      ]
    },
    {
      "cell_type": "code",
      "execution_count": null,
      "metadata": {
        "id": "447fO24cgiz4",
        "colab": {
          "base_uri": "https://localhost:8080/"
        },
        "outputId": "5e2a07ee-6312-43a7-a21a-ae98f583aa52"
      },
      "outputs": [
        {
          "output_type": "execute_result",
          "data": {
            "text/plain": [
              "((13450, 224, 224, 3), (13450,))"
            ]
          },
          "metadata": {},
          "execution_count": 34
        }
      ],
      "source": [
        "x_train.shape, y_train.shape # 이미지 수 늘어남 "
      ]
    },
    {
      "cell_type": "markdown",
      "metadata": {
        "id": "f2bOfC57CwdD"
      },
      "source": [
        "# validation, test set 형변환"
      ]
    },
    {
      "cell_type": "code",
      "execution_count": null,
      "metadata": {
        "id": "6BR9lNWoCtV_"
      },
      "outputs": [],
      "source": [
        "folder_path = '/content/dataset/val'\n",
        "dataset = {}\n",
        "\n",
        "# 이미지와 라벨 리스트에 담기\n",
        "for label in os.listdir(folder_path):\n",
        "    sub_path = folder_path+'/'+label+'/'\n",
        "    dataset[label] = []\n",
        "    for filename in os.listdir(sub_path):\n",
        "        dataset[label].append(sub_path+filename)\n",
        "\n",
        "dataset"
      ]
    },
    {
      "cell_type": "code",
      "execution_count": null,
      "metadata": {
        "id": "vd3ZBCTnCtUd"
      },
      "outputs": [],
      "source": [
        "x_val, y_val = [], []\n",
        "\n",
        "for label, filenames in dataset.items():\n",
        "    for filename in filenames:\n",
        "        image = cv2.imread(filename) # img를 array 형태로 변경\n",
        "\n",
        "        x_val.append(image)\n",
        "        y_val.append(label_gender[label]) # label을 index로 변경"
      ]
    },
    {
      "cell_type": "code",
      "execution_count": null,
      "metadata": {
        "id": "oLRfETNvCtSM"
      },
      "outputs": [],
      "source": [
        "x_val, y_val= np.array(x_val), np.array(y_val)"
      ]
    },
    {
      "cell_type": "code",
      "execution_count": null,
      "metadata": {
        "id": "jrBqwwGDC3fR"
      },
      "outputs": [],
      "source": [
        "x_val = x_val.astype('float32')"
      ]
    },
    {
      "cell_type": "code",
      "execution_count": null,
      "metadata": {
        "id": "RUhA7xu8C3c5",
        "colab": {
          "base_uri": "https://localhost:8080/"
        },
        "outputId": "409810de-72fa-4f89-d351-424d09f41780"
      },
      "outputs": [
        {
          "output_type": "execute_result",
          "data": {
            "text/plain": [
              "((1564, 224, 224, 3), (1564,))"
            ]
          },
          "metadata": {},
          "execution_count": 39
        }
      ],
      "source": [
        "x_val.shape, y_val.shape"
      ]
    },
    {
      "cell_type": "code",
      "execution_count": null,
      "metadata": {
        "id": "r5epzsnfC3an"
      },
      "outputs": [],
      "source": [
        "folder_path = '/content/dataset/test'\n",
        "dataset = {}\n",
        "\n",
        "# 이미지와 라벨 리스트에 담기\n",
        "for label in os.listdir(folder_path):\n",
        "    sub_path = folder_path+'/'+label+'/'\n",
        "    dataset[label] = []\n",
        "    for filename in os.listdir(sub_path):\n",
        "        dataset[label].append(sub_path+filename)\n",
        "\n",
        "dataset"
      ]
    },
    {
      "cell_type": "code",
      "execution_count": null,
      "metadata": {
        "id": "2TLtlvr1C3X_"
      },
      "outputs": [],
      "source": [
        "x_test, y_test = [], []\n",
        "\n",
        "for label, filenames in dataset.items():\n",
        "    for filename in filenames:\n",
        "        image = cv2.imread(filename) # img를 array 형태로 변경\n",
        "\n",
        "        x_test.append(image)\n",
        "        y_test.append(label_gender[label]) # label을 index로 변경"
      ]
    },
    {
      "cell_type": "code",
      "execution_count": null,
      "metadata": {
        "id": "5p6vxrgRC_du"
      },
      "outputs": [],
      "source": [
        "x_test, y_test = np.array(x_test), np.array(y_test)"
      ]
    },
    {
      "cell_type": "code",
      "execution_count": null,
      "metadata": {
        "id": "gJKori1BC_bs"
      },
      "outputs": [],
      "source": [
        "x_test = x_test.astype('float32')"
      ]
    },
    {
      "cell_type": "code",
      "execution_count": null,
      "metadata": {
        "id": "YBF5DrO-C_Zg",
        "colab": {
          "base_uri": "https://localhost:8080/"
        },
        "outputId": "59b283c7-3c48-49b6-b175-d8524c83e437"
      },
      "outputs": [
        {
          "output_type": "execute_result",
          "data": {
            "text/plain": [
              "((1568, 224, 224, 3), (1568,))"
            ]
          },
          "metadata": {},
          "execution_count": 44
        }
      ],
      "source": [
        "x_test.shape, y_test.shape"
      ]
    },
    {
      "cell_type": "markdown",
      "metadata": {
        "id": "F6yK5kD_DEcn"
      },
      "source": [
        "# Zero-centering"
      ]
    },
    {
      "cell_type": "code",
      "execution_count": null,
      "metadata": {
        "id": "7p9IiN6NDEJK"
      },
      "outputs": [],
      "source": [
        "def zero_mean(image):\n",
        "    # zero-centering\n",
        "    return np.mean(image, axis=0) "
      ]
    },
    {
      "cell_type": "code",
      "execution_count": null,
      "metadata": {
        "id": "gBNmu96hDEG-"
      },
      "outputs": [],
      "source": [
        "zero_mean_img = zero_mean(x_train)"
      ]
    },
    {
      "cell_type": "code",
      "execution_count": null,
      "metadata": {
        "id": "szxott3-DEEm",
        "colab": {
          "base_uri": "https://localhost:8080/"
        },
        "outputId": "69e7b705-cb75-4ec5-cb24-65fe6bd6f58e"
      },
      "outputs": [
        {
          "output_type": "execute_result",
          "data": {
            "text/plain": [
              "(224, 224, 3)"
            ]
          },
          "metadata": {},
          "execution_count": 47
        }
      ],
      "source": [
        "zero_mean_img.shape"
      ]
    },
    {
      "cell_type": "code",
      "execution_count": null,
      "metadata": {
        "id": "hQTHIN3GC_XK"
      },
      "outputs": [],
      "source": [
        "x_train -= zero_mean_img"
      ]
    },
    {
      "cell_type": "code",
      "execution_count": null,
      "metadata": {
        "id": "xIZWmumfCtQK"
      },
      "outputs": [],
      "source": [
        "x_val -= zero_mean_img\n",
        "x_test -= zero_mean_img"
      ]
    },
    {
      "cell_type": "markdown",
      "metadata": {
        "id": "Sx-E2xcKDScu"
      },
      "source": [
        "# Transfer Learning"
      ]
    },
    {
      "cell_type": "code",
      "execution_count": null,
      "metadata": {
        "id": "en_0ezcBDSbn",
        "colab": {
          "base_uri": "https://localhost:8080/"
        },
        "outputId": "894bc628-fee7-4917-d2c1-2499b08459c0"
      },
      "outputs": [
        {
          "output_type": "stream",
          "name": "stdout",
          "text": [
            "Downloading data from https://storage.googleapis.com/tensorflow/keras-applications/resnet/resnet50_weights_tf_dim_ordering_tf_kernels_notop.h5\n",
            "94773248/94765736 [==============================] - 1s 0us/step\n",
            "94781440/94765736 [==============================] - 1s 0us/step\n"
          ]
        }
      ],
      "source": [
        "## 일부 재학습 모델\n",
        "base_model = ResNet50(include_top=False, input_shape = (224, 224,3), weights = 'imagenet')\n",
        "\n",
        "for layer in base_model.layers[:-10]: \n",
        "    layer.trainable = False\t\t\t\n",
        "\n",
        "inputs = tf.keras.Input(shape=(224, 224, 3))\n",
        "\n",
        "x = base_model(inputs, training=False) # batchnorm 부분 update 방지\n",
        "\n",
        "x = tf.keras.layers.Flatten(input_shape=base_model.output_shape[1:])(x)\n",
        "x = tf.keras.layers.Dense(256, activation='relu')(x)\n",
        "x = tf.keras.layers.Dropout(0.5)(x)\n",
        "x = tf.keras.layers.Dense(128, activation='relu')(x)\n",
        "outputs = tf.keras.layers.Dense(1, activation='softmax')(x)  \n",
        "\n",
        "model = tf.keras.Model(inputs, outputs)\n",
        "\n",
        "model.compile(optimizer = tf.keras.optimizers.Adam( learning_rate= 0.0001),\n",
        "                loss = 'sparse_categorical_crossentropy',\n",
        "                metrics=['accuracy'])"
      ]
    },
    {
      "cell_type": "markdown",
      "source": [
        "# train loss, validation loss 시각화 "
      ],
      "metadata": {
        "id": "wpZpDo9x9FYh"
      }
    },
    {
      "cell_type": "code",
      "source": [
        "def tr_plot(tr_data, start_epoch):\n",
        "    #Plot the training and validation data\n",
        "    tacc=tr_data.history['accuracy']\n",
        "    tloss=tr_data.history['loss']\n",
        "    vacc=tr_data.history['val_accuracy']\n",
        "    vloss=tr_data.history['val_loss']\n",
        "    Epoch_count=len(tacc)+ start_epoch\n",
        "    Epochs=[]\n",
        "    for i in range (start_epoch ,Epoch_count):\n",
        "        Epochs.append(i+1)   \n",
        "    index_loss=np.argmin(vloss)#  this is the epoch with the lowest validation loss\n",
        "    val_lowest=vloss[index_loss]\n",
        "    index_acc=np.argmax(vacc)\n",
        "    acc_highest=vacc[index_acc]\n",
        "    plt.style.use('fivethirtyeight')\n",
        "    sc_label='best epoch= '+ str(index_loss+1 +start_epoch)\n",
        "    vc_label='best epoch= '+ str(index_acc + 1+ start_epoch)\n",
        "    fig,axes=plt.subplots(nrows=1, ncols=2, figsize=(20,8))\n",
        "    axes[0].plot(Epochs,tloss, 'r', label='Training loss')\n",
        "    axes[0].plot(Epochs,vloss,'g',label='Validation loss' )\n",
        "    axes[0].scatter(index_loss+1 +start_epoch,val_lowest, s=150, c= 'blue', label=sc_label)\n",
        "    axes[0].set_title('Training and Validation Loss')\n",
        "    axes[0].set_xlabel('Epochs')\n",
        "    axes[0].set_ylabel('Loss')\n",
        "    axes[0].legend()\n",
        "    axes[1].plot (Epochs,tacc,'r',label= 'Training Accuracy')\n",
        "    axes[1].plot (Epochs,vacc,'g',label= 'Validation Accuracy')\n",
        "    axes[1].scatter(index_acc+1 +start_epoch,acc_highest, s=150, c= 'blue', label=vc_label)\n",
        "    axes[1].set_title('Training and Validation Accuracy')\n",
        "    axes[1].set_xlabel('Epochs')\n",
        "    axes[1].set_ylabel('Accuracy')\n",
        "    axes[1].legend()\n",
        "    plt.tight_layout\n",
        "    #plt.style.use('fivethirtyeight')\n",
        "    plt.show()"
      ],
      "metadata": {
        "id": "ezYkkIb_LwBL"
      },
      "execution_count": null,
      "outputs": []
    },
    {
      "cell_type": "markdown",
      "source": [
        "# 모델 학습 및 평가 "
      ],
      "metadata": {
        "id": "OBbOGu9n_jNr"
      }
    },
    {
      "cell_type": "code",
      "execution_count": null,
      "metadata": {
        "id": "GoXQg6pGDSXx"
      },
      "outputs": [],
      "source": [
        "tr_plot(model.fit(x_train, y_train, epochs = 5, batch_size= 125, validation_data=(x_val, y_val)), 0)"
      ]
    },
    {
      "cell_type": "code",
      "execution_count": null,
      "metadata": {
        "id": "ltbnhMD3DSGD"
      },
      "outputs": [],
      "source": [
        "model.evaluate(x_test, y_test)"
      ]
    }
  ],
  "metadata": {
    "colab": {
      "provenance": []
    },
    "kernelspec": {
      "display_name": "Python 3.10.5 64-bit",
      "language": "python",
      "name": "python3"
    },
    "language_info": {
      "codemirror_mode": {
        "name": "ipython",
        "version": 3
      },
      "file_extension": ".py",
      "mimetype": "text/x-python",
      "name": "python",
      "nbconvert_exporter": "python",
      "pygments_lexer": "ipython3",
      "version": "3.10.5"
    },
    "vscode": {
      "interpreter": {
        "hash": "369f2c481f4da34e4445cda3fffd2e751bd1c4d706f27375911949ba6bb62e1c"
      }
    }
  },
  "nbformat": 4,
  "nbformat_minor": 0
}