{
  "cells": [
    {
      "cell_type": "code",
      "execution_count": null,
      "metadata": {
        "id": "Y7nLIYYasRDa"
      },
      "outputs": [],
      "source": [
        "!pip install tensorflow\n",
        "!pip install matplotlib\n",
        "!pip install split-folders\n",
        "!pip install opencv-python\n",
        "!pip install -U scikit-learn\n",
        "!pip install pandas"
      ]
    },
    {
      "cell_type": "code",
      "execution_count": null,
      "metadata": {
        "id": "b2b0kP3gsRDb"
      },
      "outputs": [],
      "source": [
        "pip install --upgrade pip"
      ]
    },
    {
      "cell_type": "code",
      "execution_count": null,
      "metadata": {
        "id": "zXIGSUFg0s_G"
      },
      "outputs": [],
      "source": [
        "!apt install --allow-change-held-packages libcudnn8=8.1.0.77-1+cuda11.2"
      ]
    },
    {
      "cell_type": "code",
      "execution_count": null,
      "metadata": {
        "id": "g6r6yyY4TJJb"
      },
      "outputs": [],
      "source": [
        "import tensorflow as tf\n",
        "from tensorflow.keras import layers, models\n",
        "from tensorflow.keras.applications.resnet50 import ResNet50\n",
        "from tensorflow.keras.applications import VGG16\n",
        "from tensorflow.keras.applications import EfficientNetB7\n",
        "from tensorflow.keras.layers import Dense, Flatten, MaxPooling2D\n",
        "from tensorflow.keras.layers import Dropout, BatchNormalization\n",
        "from tensorflow.keras import Input\n",
        "\n",
        "import numpy as np\n",
        "import matplotlib.pyplot as plt"
      ]
    },
    {
      "cell_type": "code",
      "execution_count": null,
      "metadata": {
        "id": "nesQOWKe9xfm"
      },
      "outputs": [],
      "source": [
        "import splitfolders\n",
        "import os   # 리눅스를 파이썬에서 쓰고 싶을 때\n",
        "import cv2\n",
        "import matplotlib.cm as cm\n",
        "import pickle\n",
        "from tensorflow.keras.preprocessing.image import ImageDataGenerator, array_to_img, img_to_array, load_img\n",
        "from sklearn.model_selection import train_test_split\n",
        "import pandas as pd"
      ]
    },
    {
      "cell_type": "markdown",
      "metadata": {
        "id": "4-Xw9-NGwa1I"
      },
      "source": [
        "## 모델 vgg adam \n",
        "\n"
      ]
    },
    {
      "cell_type": "code",
      "execution_count": null,
      "metadata": {
        "colab": {
          "base_uri": "https://localhost:8080/"
        },
        "id": "m66YkJ4pwa1J",
        "outputId": "310cc1d4-bb27-46b6-d60d-585c5e8fd1e0"
      },
      "outputs": [
        {
          "name": "stdout",
          "output_type": "stream",
          "text": [
            "Downloading data from https://storage.googleapis.com/keras-applications/efficientnetb7_notop.h5\n",
            "258076736/258076736 [==============================] - 1s 0us/step\n"
          ]
        }
      ],
      "source": [
        "# base_model = VGG16(include_top=False, input_shape = (224, 224, 3), weights = 'imagenet')\n",
        "# base_model = ResNet50(include_top=False, input_shape = (224, 224, 3), weights = 'imagenet')\n",
        "base_model = EfficientNetB7(include_top=False, input_shape = (224, 224, 3), weights = 'imagenet')"
      ]
    },
    {
      "cell_type": "code",
      "execution_count": null,
      "metadata": {
        "id": "EJzPv4Y4wa1J"
      },
      "outputs": [],
      "source": [
        "base_model.trainable =True\n",
        "# 전체를 True로 하고 일부만 봉쇄\n",
        "for layer in base_model.layers[:-10]: \n",
        "  layer.trainable = False\t\t\t\t"
      ]
    },
    {
      "cell_type": "code",
      "execution_count": null,
      "metadata": {
        "id": "wPwILablwa1J"
      },
      "outputs": [],
      "source": [
        "inputs = tf.keras.Input(shape=(224, 224, 3))\n",
        "\n",
        "x = base_model(inputs, training=False) # batchnorm 부분 update 방지\n",
        "\n",
        "x = tf.keras.layers.Flatten(input_shape=base_model.output_shape[1:])(x)\n",
        "x = tf.keras.layers.Dense(128, activation='relu')(x)\n",
        "x= tf.keras.layers.Dropout(0.5)(x)\n",
        "outputs = tf.keras.layers.Dense(2, activation='softmax')(x)\n",
        "\n",
        "model = tf.keras.Model(inputs, outputs)"
      ]
    },
    {
      "cell_type": "code",
      "execution_count": null,
      "metadata": {
        "id": "ow-8H2imwa1J"
      },
      "outputs": [],
      "source": [
        "model.compile(optimizer = tf.keras.optimizers.Adam( learning_rate= 0.00001),\n",
        "                  loss = 'sparse_categorical_crossentropy',\n",
        "                  metrics=['accuracy'])"
      ]
    },
    {
      "cell_type": "markdown",
      "metadata": {
        "id": "ZxQiiOTBiZCv"
      },
      "source": [
        "## 모델 불러오기"
      ]
    },
    {
      "cell_type": "code",
      "execution_count": null,
      "metadata": {
        "colab": {
          "base_uri": "https://localhost:8080/"
        },
        "id": "zcia8z_4iaXC",
        "outputId": "20c7fc06-c59e-4879-c863-3988c034211e"
      },
      "outputs": [
        {
          "data": {
            "text/plain": [
              "<tensorflow.python.training.tracking.util.CheckpointLoadStatus at 0x7fd080165890>"
            ]
          },
          "metadata": {},
          "output_type": "display_data"
        }
      ],
      "source": [
        "model.load_weights('/content/training_3/cp.ckpt')"
      ]
    },
    {
      "cell_type": "code",
      "execution_count": null,
      "metadata": {
        "id": "xAcTbHiNinIk"
      },
      "outputs": [],
      "source": [
        "base_model.trainable = True\n",
        "\n",
        "for layer in base_model.layers[:-10]: \n",
        "    layer.trainable = False\n",
        "\n",
        "\n",
        "inputs = tf.keras.Input(shape=(224, 224, 3))\n",
        "\n",
        "x = base_model(inputs, training=False) \n",
        "\n",
        "x = tf.keras.layers.Flatten(input_shape=model.output_shape[1:])(x)\n",
        "x = tf.keras.layers.Dense(64, activation='relu')(x)\n",
        "x= tf.keras.layers.Dropout(0.5)(x)\n",
        "outputs = tf.keras.layers.Dense(3, activation='softmax')(x)\n",
        "\n",
        "model = tf.keras.Model(inputs, outputs)\n",
        "\n",
        "model.compile(optimizer = tf.keras.optimizers.Adam( learning_rate= 0.0001),\n",
        "                loss = 'sparse_categorical_crossentropy',\n",
        "                metrics=['accuracy'])"
      ]
    },
    {
      "cell_type": "markdown",
      "metadata": {
        "id": "w91Vy5ejUJ19"
      },
      "source": [
        "# predict newdata"
      ]
    },
    {
      "cell_type": "code",
      "execution_count": null,
      "metadata": {
        "colab": {
          "base_uri": "https://localhost:8080/"
        },
        "id": "ARENy9InarZf",
        "outputId": "3d1feba1-2991-4ba5-83d8-707dc5b53ee3"
      },
      "outputs": [
        {
          "data": {
            "text/plain": [
              "['/content/newdata/KakaoTalk_20220817_192023857_07.jpg',\n",
              " '/content/newdata/KakaoTalk_20220817_192023857_10.jpg',\n",
              " '/content/newdata/KakaoTalk_20220817_192023857_02.jpg',\n",
              " '/content/newdata/KakaoTalk_20220817_192023857_09.jpg',\n",
              " '/content/newdata/KakaoTalk_20220817_192023857_01.jpg',\n",
              " '/content/newdata/KakaoTalk_20220817_192023857_08.jpg',\n",
              " '/content/newdata/KakaoTalk_20220817_192023857_06.jpg',\n",
              " '/content/newdata/KakaoTalk_20220817_192023857_05.jpg',\n",
              " '/content/newdata/KakaoTalk_20220817_192023857_04.jpg',\n",
              " '/content/newdata/KakaoTalk_20220817_192023857_03.jpg',\n",
              " '/content/newdata/KakaoTalk_20220817_192023857_11.jpg',\n",
              " '/content/newdata/KakaoTalk_20220817_192023857.jpg']"
            ]
          },
          "execution_count": 40,
          "metadata": {},
          "output_type": "execute_result"
        }
      ],
      "source": [
        "dataset_newdata = []\n",
        "\n",
        "# 이미지와 라벨 리스트에 담기\n",
        "for name in os.listdir(\"/content/newdata\"):\n",
        "    dataset_newdata.append( \"/content/newdata/\"+name )\n",
        "\n",
        "dataset_newdata"
      ]
    },
    {
      "cell_type": "code",
      "execution_count": null,
      "metadata": {
        "id": "rDTxLYf8aNUq"
      },
      "outputs": [],
      "source": [
        "for filename in dataset_newdata:\n",
        "    img = cv2.imread(filename)\n",
        "\n",
        "    percent = 1\n",
        "    if(img.shape[1] > img.shape[0]) :      \n",
        "        percent = 224/img.shape[1] \n",
        "    else :\n",
        "        percent = 224/img.shape[0]\n",
        "    img = cv2.resize(img, dsize=(0, 0), fx=percent, fy=percent, interpolation=cv2.INTER_LINEAR)\n",
        "    y,x,h,w = (0,0,img.shape[0], img.shape[1])\n",
        "\n",
        "    w_x = (224-(w-x))/2  \n",
        "    h_y = (224-(h-y))/2\n",
        "\n",
        "    if(w_x < 0):  \n",
        "        w_x = 0\n",
        "    elif(h_y < 0):\n",
        "        h_y = 0\n",
        "\n",
        "    M = np.float32([[1,0,w_x], [0,1,h_y]]) \n",
        "    img_re = cv2.warpAffine(img, M, (224, 224)) \n",
        "\n",
        "    cv2.imwrite('resized/newdata/{0}'.format(filename.split(\"/\")[-1]) , img_re)"
      ]
    },
    {
      "cell_type": "code",
      "execution_count": null,
      "metadata": {
        "colab": {
          "base_uri": "https://localhost:8080/"
        },
        "id": "dNoWfqCzcDpU",
        "outputId": "04443089-4ec2-44be-f25e-4c95857458d2"
      },
      "outputs": [
        {
          "name": "stdout",
          "output_type": "stream",
          "text": [
            "KakaoTalk_20220817_192023857_07.jpg\n",
            "KakaoTalk_20220817_192023857_10.jpg\n",
            "KakaoTalk_20220817_192023857_02.jpg\n",
            "KakaoTalk_20220817_192023857_09.jpg\n",
            "KakaoTalk_20220817_192023857_01.jpg\n",
            "KakaoTalk_20220817_192023857_08.jpg\n",
            "KakaoTalk_20220817_192023857_06.jpg\n",
            "KakaoTalk_20220817_192023857_05.jpg\n",
            "KakaoTalk_20220817_192023857_04.jpg\n",
            "KakaoTalk_20220817_192023857_03.jpg\n",
            "KakaoTalk_20220817_192023857_11.jpg\n",
            "KakaoTalk_20220817_192023857.jpg\n"
          ]
        }
      ],
      "source": [
        "x_newdata = []\n",
        "\n",
        "for name in os.listdir(\"/content/resized/newdata\"):\n",
        "    print(name)\n",
        "    image = cv2.imread( \"/content/resized/newdata/\"+name ) \n",
        "    x_newdata.append( image )\n",
        "\n",
        "# x_newdata"
      ]
    },
    {
      "cell_type": "code",
      "execution_count": null,
      "metadata": {
        "id": "saRB5SaZcDpU"
      },
      "outputs": [],
      "source": [
        "# array로 형변환\n",
        "x_newdata = np.array(x_newdata)"
      ]
    },
    {
      "cell_type": "code",
      "execution_count": null,
      "metadata": {
        "id": "Yxoic97GcDpU"
      },
      "outputs": [],
      "source": [
        "x_newdata = x_newdata.astype('float32')"
      ]
    },
    {
      "cell_type": "code",
      "execution_count": null,
      "metadata": {
        "colab": {
          "base_uri": "https://localhost:8080/"
        },
        "id": "Uxc4-qxWcDpU",
        "outputId": "92a62ee2-fbce-4dd0-f421-2a8331f340b8"
      },
      "outputs": [
        {
          "data": {
            "text/plain": [
              "(12, 224, 224, 3)"
            ]
          },
          "execution_count": 47,
          "metadata": {},
          "output_type": "execute_result"
        }
      ],
      "source": [
        "x_newdata.shape"
      ]
    },
    {
      "cell_type": "code",
      "execution_count": null,
      "metadata": {
        "colab": {
          "base_uri": "https://localhost:8080/"
        },
        "id": "ccnaIaARcrrG",
        "outputId": "21b82b30-cce2-44ad-cebb-d2863ae35686"
      },
      "outputs": [
        {
          "name": "stdout",
          "output_type": "stream",
          "text": [
            "1/1 [==============================] - 2s 2s/step\n"
          ]
        },
        {
          "data": {
            "text/plain": [
              "array([[1.00000000e+00, 1.80170047e-13, 5.91916088e-22],\n",
              "       [1.60643784e-03, 9.98393595e-01, 3.86820354e-09],\n",
              "       [4.21968302e-19, 1.00000000e+00, 3.33769976e-27],\n",
              "       [1.00000000e+00, 4.91115237e-08, 7.35676490e-16],\n",
              "       [4.98689241e-12, 1.00000000e+00, 1.13145352e-18],\n",
              "       [1.35115869e-07, 9.99999881e-01, 9.61728188e-14],\n",
              "       [1.00000000e+00, 1.76852240e-08, 1.02205265e-14],\n",
              "       [1.00000000e+00, 2.91879254e-09, 2.58348331e-15],\n",
              "       [1.00000000e+00, 1.26209953e-15, 1.67086846e-23],\n",
              "       [1.00000000e+00, 1.62987868e-09, 6.32236192e-16],\n",
              "       [1.00000000e+00, 6.30843338e-17, 4.84084556e-26],\n",
              "       [2.00881436e-01, 7.99118578e-01, 7.44036655e-09]], dtype=float32)"
            ]
          },
          "execution_count": 49,
          "metadata": {},
          "output_type": "execute_result"
        }
      ],
      "source": [
        "my_predict = model.predict(x_newdata)\n",
        "my_predict"
      ]
    },
    {
      "cell_type": "code",
      "execution_count": null,
      "metadata": {
        "id": "YFJf0cbPpq78"
      },
      "outputs": [],
      "source": [
        "label2index = {'man' : 0, 'woman' : 1}"
      ]
    },
    {
      "cell_type": "code",
      "execution_count": null,
      "metadata": {
        "colab": {
          "base_uri": "https://localhost:8080/"
        },
        "id": "SsFrfYxCgw23",
        "outputId": "386dca7e-d130-4c0e-a869-9841ee30355c"
      },
      "outputs": [
        {
          "name": "stdout",
          "output_type": "stream",
          "text": [
            "1.0\n",
            "1.8017004717579138e-13\n",
            "5.919160878122941e-22\n",
            "\n",
            "\n",
            "0.0016064378432929516\n",
            "0.9983935952186584\n",
            "3.868203535262182e-09\n",
            "\n",
            "\n",
            "4.219683017131806e-19\n",
            "1.0\n",
            "3.3376997641252556e-27\n",
            "\n",
            "\n",
            "1.0\n",
            "4.9111523736655727e-08\n",
            "7.356764902940929e-16\n",
            "\n",
            "\n",
            "4.986892409436505e-12\n",
            "1.0\n",
            "1.1314535208091007e-18\n",
            "\n",
            "\n",
            "1.3511586871572945e-07\n",
            "0.9999998807907104\n",
            "9.61728187864018e-14\n",
            "\n",
            "\n",
            "1.0\n",
            "1.7685223951957596e-08\n",
            "1.0220526546400252e-14\n",
            "\n",
            "\n",
            "1.0\n",
            "2.918792540995696e-09\n",
            "2.583483311652322e-15\n",
            "\n",
            "\n",
            "1.0\n",
            "1.26209952607876e-15\n",
            "1.670868455092167e-23\n",
            "\n",
            "\n",
            "1.0\n",
            "1.6298786764679107e-09\n",
            "6.322361915006873e-16\n",
            "\n",
            "\n",
            "1.0\n",
            "6.308433384631562e-17\n",
            "4.840845561186321e-26\n",
            "\n",
            "\n",
            "0.20088143646717072\n",
            "0.7991185784339905\n",
            "7.440366545097277e-09\n",
            "\n",
            "\n"
          ]
        }
      ],
      "source": [
        "list_predict = my_predict.tolist()\n",
        "\n",
        "for idx, i in enumerate( list_predict ):\n",
        "  dataset_newdata[idx]\n",
        "  print(i[0])\n",
        "  print(i[1])\n",
        "  print(i[2])\n",
        "  print(\"\\n\")"
      ]
    },
    {
      "cell_type": "markdown",
      "metadata": {
        "id": "NUzpd7l_Ili1"
      },
      "source": [
        "# confusion matrix"
      ]
    },
    {
      "cell_type": "code",
      "execution_count": null,
      "metadata": {
        "id": "kTq8Q1pBIwDM"
      },
      "outputs": [],
      "source": [
        "from sklearn.metrics import confusion_matrix\n",
        "\n",
        "y_true = [0,1,2,1,2,1,0,0,2,2,1,2]\n",
        "y_pred = [2,1,2,1,0,1,0,0,2,1,1,2]\n",
        "matrix = confusion_matrix(y_true, y_pred, labels=[0, 1, 2])"
      ]
    },
    {
      "cell_type": "code",
      "execution_count": null,
      "metadata": {
        "colab": {
          "base_uri": "https://localhost:8080/",
          "height": 287
        },
        "id": "PHHuc98yn2ju",
        "outputId": "e58343cf-79fb-41d9-ee92-33e71745b1c6"
      },
      "outputs": [
        {
          "data": {
            "image/png": "[encoded data removed]",
            "text/plain": [
              "<Figure size 432x288 with 2 Axes>"
            ]
          },
          "metadata": {},
          "output_type": "display_data"
        }
      ],
      "source": [
        "import numpy as np\n",
        "import seaborn as sns\n",
        "\n",
        "sns.heatmap(matrix, annot=True, cmap='Blues');  # cmap='OrRd'"
      ]
    },
    {
      "cell_type": "code",
      "execution_count": null,
      "metadata": {
        "colab": {
          "base_uri": "https://localhost:8080/",
          "height": 287
        },
        "id": "ol-hD6oar2qG",
        "outputId": "0e18857e-f170-4590-a154-f169f7ac26ac"
      },
      "outputs": [
        {
          "data": {
            "image/png": "[encoded data removed]",
            "text/plain": [
              "<Figure size 432x288 with 2 Axes>"
            ]
          },
          "metadata": {},
          "output_type": "display_data"
        }
      ],
      "source": [
        "\n",
        "\n",
        "y_true = [0,1,1,1,1,1,0,0,0,0,0,1]\n",
        "y_pred = [0,1,1,0,1,1,0,0,0,0,0,1]\n",
        "matrix = confusion_matrix(y_true, y_pred, labels=[0, 1])\n",
        "\n",
        "sns.heatmap(matrix, annot=True, cmap='Blues');  # cmap='OrRd'"
      ]
    },
    {
      "cell_type": "code",
      "execution_count": null,
      "metadata": {
        "colab": {
          "base_uri": "https://localhost:8080/"
        },
        "id": "CcxDojgay-sF",
        "outputId": "9110276b-3f23-40b7-81c2-a972f987b4ea"
      },
      "outputs": [
        {
          "name": "stdout",
          "output_type": "stream",
          "text": [
            "              precision    recall  f1-score   support\n",
            "\n",
            "           0       0.86      1.00      0.92         6\n",
            "           1       1.00      0.83      0.91         6\n",
            "\n",
            "    accuracy                           0.92        12\n",
            "   macro avg       0.93      0.92      0.92        12\n",
            "weighted avg       0.93      0.92      0.92        12\n",
            "\n"
          ]
        }
      ],
      "source": [
        "from sklearn.metrics import confusion_matrix\n",
        "\n",
        "# 스타일\n",
        "# y_true = [0,1,2,1,2,1,0,0,2,2,1,2]\n",
        "# y_pred = [2,1,2,1,0,1,0,0,2,1,1,2]\n",
        "\n",
        "# 성별\n",
        "y_true = [0,1,1,1,1,1,0,0,0,0,0,1]\n",
        "y_pred = [0,1,1,0,1,1,0,0,0,0,0,1]\n",
        "\n",
        "print(classification_report(y_true,y_pred ))"
      ]
    },
    {
      "cell_type": "code",
      "execution_count": null,
      "metadata": {
        "colab": {
          "base_uri": "https://localhost:8080/",
          "height": 287
        },
        "id": "vRX0YxG6zKWP",
        "outputId": "3cc3ce35-4f20-4b15-d691-796717429f07"
      },
      "outputs": [
        {
          "data": {
            "image/png": "[encoded data removed]",
            "text/plain": [
              "<Figure size 432x288 with 2 Axes>"
            ]
          },
          "metadata": {},
          "output_type": "display_data"
        }
      ],
      "source": [
        "y_true_label = [0,0,0,1,1,0,1,1,1,0,1,1]\n",
        "y_pred_label = [0,0,0,1,1,0,1,0,1,0,0,1]\n",
        "matrix = confusion_matrix(y_true_label, y_pred_label, labels=[0, 1, 2])\n",
        "\n",
        "sns.heatmap(matrix, annot=True, cmap='Blues');  # cmap='OrRd'"
      ]
    },
    {
      "cell_type": "code",
      "execution_count": null,
      "metadata": {
        "colab": {
          "base_uri": "https://localhost:8080/"
        },
        "id": "yd6V0kA20zJN",
        "outputId": "28fb9a39-106c-4cc5-ef0e-68e61265d242"
      },
      "outputs": [
        {
          "name": "stdout",
          "output_type": "stream",
          "text": [
            "              precision    recall  f1-score   support\n",
            "\n",
            "           0       0.71      1.00      0.83         5\n",
            "           1       1.00      0.71      0.83         7\n",
            "\n",
            "    accuracy                           0.83        12\n",
            "   macro avg       0.86      0.86      0.83        12\n",
            "weighted avg       0.88      0.83      0.83        12\n",
            "\n"
          ]
        }
      ],
      "source": [
        "# 계절\n",
        "y_true_label = [0,0,0,1,1,0,1,1,1,0,1,1]\n",
        "y_pred_label = [0,0,0,1,1,0,1,0,1,0,0,1]\n",
        "\n",
        "print(classification_report(y_true_label, y_pred_label ))"
      ]
    }
  ],
  "metadata": {
    "accelerator": "GPU",
    "colab": {
      "machine_shape": "hm",
      "provenance": []
    },
    "gpuClass": "standard",
    "kernelspec": {
      "display_name": "Python 3.9.12 ('tf27')",
      "language": "python",
      "name": "python3"
    },
    "language_info": {
      "name": "python",
      "version": "3.9.12"
    },
    "vscode": {
      "interpreter": {
        "hash": "1d8015098d1dae84219b5f36314149636e9abcaade3eb06915d5127b55dee25b"
      }
    }
  },
  "nbformat": 4,
  "nbformat_minor": 0
}
